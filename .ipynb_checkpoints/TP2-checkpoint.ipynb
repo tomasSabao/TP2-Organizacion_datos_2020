{
 "cells": [
  {
   "cell_type": "code",
   "execution_count": 1,
   "metadata": {},
   "outputs": [],
   "source": [
    "import pandas as pd \n",
    "import sklearn as sk\n",
    "import numpy as np\n",
    "\n",
    "import re\n",
    "import string\n",
    "import nltk\n",
    "from nltk.corpus import stopwords\n",
    "\n",
    "#Aca es donde tienen que poner el path asociado a donde tengan guardado\n",
    "#el arhcivo del embedding de GLoVE. Tienen que bajarlo de:\n",
    "#http://downloads.cs.stanford.edu/nlp/data/glove.6B.zip\n",
    "path_glove='/home/tomas/organizacion_de_datos/tp2/glove.6B.100d.txt'"
   ]
  },
  {
   "cell_type": "code",
   "execution_count": 2,
   "metadata": {
    "scrolled": true
   },
   "outputs": [
    {
     "name": "stderr",
     "output_type": "stream",
     "text": [
      "/home/tomas/.local/lib/python3.6/site-packages/tensorflow/python/framework/dtypes.py:516: FutureWarning: Passing (type, 1) or '1type' as a synonym of type is deprecated; in a future version of numpy, it will be understood as (type, (1,)) / '(1,)type'.\n",
      "  _np_qint8 = np.dtype([(\"qint8\", np.int8, 1)])\n",
      "/home/tomas/.local/lib/python3.6/site-packages/tensorflow/python/framework/dtypes.py:517: FutureWarning: Passing (type, 1) or '1type' as a synonym of type is deprecated; in a future version of numpy, it will be understood as (type, (1,)) / '(1,)type'.\n",
      "  _np_quint8 = np.dtype([(\"quint8\", np.uint8, 1)])\n",
      "/home/tomas/.local/lib/python3.6/site-packages/tensorflow/python/framework/dtypes.py:518: FutureWarning: Passing (type, 1) or '1type' as a synonym of type is deprecated; in a future version of numpy, it will be understood as (type, (1,)) / '(1,)type'.\n",
      "  _np_qint16 = np.dtype([(\"qint16\", np.int16, 1)])\n",
      "/home/tomas/.local/lib/python3.6/site-packages/tensorflow/python/framework/dtypes.py:519: FutureWarning: Passing (type, 1) or '1type' as a synonym of type is deprecated; in a future version of numpy, it will be understood as (type, (1,)) / '(1,)type'.\n",
      "  _np_quint16 = np.dtype([(\"quint16\", np.uint16, 1)])\n",
      "/home/tomas/.local/lib/python3.6/site-packages/tensorflow/python/framework/dtypes.py:520: FutureWarning: Passing (type, 1) or '1type' as a synonym of type is deprecated; in a future version of numpy, it will be understood as (type, (1,)) / '(1,)type'.\n",
      "  _np_qint32 = np.dtype([(\"qint32\", np.int32, 1)])\n",
      "/home/tomas/.local/lib/python3.6/site-packages/tensorflow/python/framework/dtypes.py:525: FutureWarning: Passing (type, 1) or '1type' as a synonym of type is deprecated; in a future version of numpy, it will be understood as (type, (1,)) / '(1,)type'.\n",
      "  np_resource = np.dtype([(\"resource\", np.ubyte, 1)])\n",
      "/home/tomas/.local/lib/python3.6/site-packages/tensorboard/compat/tensorflow_stub/dtypes.py:541: FutureWarning: Passing (type, 1) or '1type' as a synonym of type is deprecated; in a future version of numpy, it will be understood as (type, (1,)) / '(1,)type'.\n",
      "  _np_qint8 = np.dtype([(\"qint8\", np.int8, 1)])\n",
      "/home/tomas/.local/lib/python3.6/site-packages/tensorboard/compat/tensorflow_stub/dtypes.py:542: FutureWarning: Passing (type, 1) or '1type' as a synonym of type is deprecated; in a future version of numpy, it will be understood as (type, (1,)) / '(1,)type'.\n",
      "  _np_quint8 = np.dtype([(\"quint8\", np.uint8, 1)])\n",
      "/home/tomas/.local/lib/python3.6/site-packages/tensorboard/compat/tensorflow_stub/dtypes.py:543: FutureWarning: Passing (type, 1) or '1type' as a synonym of type is deprecated; in a future version of numpy, it will be understood as (type, (1,)) / '(1,)type'.\n",
      "  _np_qint16 = np.dtype([(\"qint16\", np.int16, 1)])\n",
      "/home/tomas/.local/lib/python3.6/site-packages/tensorboard/compat/tensorflow_stub/dtypes.py:544: FutureWarning: Passing (type, 1) or '1type' as a synonym of type is deprecated; in a future version of numpy, it will be understood as (type, (1,)) / '(1,)type'.\n",
      "  _np_quint16 = np.dtype([(\"quint16\", np.uint16, 1)])\n",
      "/home/tomas/.local/lib/python3.6/site-packages/tensorboard/compat/tensorflow_stub/dtypes.py:545: FutureWarning: Passing (type, 1) or '1type' as a synonym of type is deprecated; in a future version of numpy, it will be understood as (type, (1,)) / '(1,)type'.\n",
      "  _np_qint32 = np.dtype([(\"qint32\", np.int32, 1)])\n",
      "/home/tomas/.local/lib/python3.6/site-packages/tensorboard/compat/tensorflow_stub/dtypes.py:550: FutureWarning: Passing (type, 1) or '1type' as a synonym of type is deprecated; in a future version of numpy, it will be understood as (type, (1,)) / '(1,)type'.\n",
      "  np_resource = np.dtype([(\"resource\", np.ubyte, 1)])\n"
     ]
    }
   ],
   "source": [
    "from tensorflow.keras.preprocessing.text import Tokenizer\n",
    "from tensorflow.keras.preprocessing.sequence import pad_sequences\n",
    "from tensorflow.keras.models import Sequential\n",
    "from tensorflow.keras.layers import Dense,Embedding,LSTM,GRU\n",
    "from tensorflow.keras.utils import to_categorical\n",
    "from tensorflow.keras import layers\n",
    "from sklearn.model_selection import train_test_split\n"
   ]
  },
  {
   "cell_type": "code",
   "execution_count": 2,
   "metadata": {},
   "outputs": [
    {
     "name": "stderr",
     "output_type": "stream",
     "text": [
      "[nltk_data] Downloading package stopwords to /home/tomas/nltk_data...\n",
      "[nltk_data]   Package stopwords is already up-to-date!\n"
     ]
    },
    {
     "data": {
      "text/plain": [
       "True"
      ]
     },
     "execution_count": 2,
     "metadata": {},
     "output_type": "execute_result"
    }
   ],
   "source": [
    "nltk.download('stopwords')"
   ]
  },
  {
   "cell_type": "code",
   "execution_count": 3,
   "metadata": {},
   "outputs": [
    {
     "name": "stderr",
     "output_type": "stream",
     "text": [
      "[nltk_data] Downloading package wordnet to /home/tomas/nltk_data...\n",
      "[nltk_data]   Package wordnet is already up-to-date!\n"
     ]
    },
    {
     "data": {
      "text/plain": [
       "True"
      ]
     },
     "execution_count": 3,
     "metadata": {},
     "output_type": "execute_result"
    }
   ],
   "source": [
    "nltk.download('wordnet')"
   ]
  },
  {
   "cell_type": "code",
   "execution_count": 4,
   "metadata": {
    "scrolled": false
   },
   "outputs": [
    {
     "name": "stderr",
     "output_type": "stream",
     "text": [
      "[nltk_data] Downloading package punkt to /home/tomas/nltk_data...\n",
      "[nltk_data]   Package punkt is already up-to-date!\n"
     ]
    },
    {
     "data": {
      "text/plain": [
       "True"
      ]
     },
     "execution_count": 4,
     "metadata": {},
     "output_type": "execute_result"
    }
   ],
   "source": [
    "nltk.download('punkt')"
   ]
  },
  {
   "cell_type": "code",
   "execution_count": 5,
   "metadata": {},
   "outputs": [
    {
     "name": "stderr",
     "output_type": "stream",
     "text": [
      "[nltk_data] Downloading package averaged_perceptron_tagger to\n",
      "[nltk_data]     /home/tomas/nltk_data...\n",
      "[nltk_data]   Package averaged_perceptron_tagger is already up-to-\n",
      "[nltk_data]       date!\n"
     ]
    },
    {
     "data": {
      "text/plain": [
       "True"
      ]
     },
     "execution_count": 5,
     "metadata": {},
     "output_type": "execute_result"
    }
   ],
   "source": [
    "nltk.download('averaged_perceptron_tagger')"
   ]
  },
  {
   "cell_type": "code",
   "execution_count": 3,
   "metadata": {},
   "outputs": [],
   "source": [
    "from nltk.stem.snowball import SnowballStemmer"
   ]
  },
  {
   "cell_type": "code",
   "execution_count": 4,
   "metadata": {},
   "outputs": [],
   "source": [
    "stemmer=SnowballStemmer(language='english')"
   ]
  },
  {
   "cell_type": "code",
   "execution_count": 5,
   "metadata": {},
   "outputs": [],
   "source": [
    "def stemmizar_texto(texto):\n",
    "    texto=' '.join([stemmer.stem(palabra) for palabra in texto.split() ])\n",
    "    return texto\n"
   ]
  },
  {
   "cell_type": "code",
   "execution_count": 6,
   "metadata": {},
   "outputs": [],
   "source": [
    "english_stopwords=set(stopwords.words('english'))"
   ]
  },
  {
   "cell_type": "code",
   "execution_count": 7,
   "metadata": {},
   "outputs": [],
   "source": [
    "train_set=pd.read_csv(\"train.csv\",encoding='utf-8')"
   ]
  },
  {
   "cell_type": "code",
   "execution_count": 8,
   "metadata": {},
   "outputs": [],
   "source": [
    "test_set=pd.read_csv(\"test.csv\",encoding='utf-8')"
   ]
  },
  {
   "cell_type": "markdown",
   "metadata": {},
   "source": [
    "## Red neuronal profunda, NLP, preprocesamiento de texto, análisis realizado usando como único feature el texto del tweet"
   ]
  },
  {
   "cell_type": "markdown",
   "metadata": {},
   "source": [
    "Análisis con preprocesamiento de los textos:\n",
    "En el caso anterior se tomo simplemente los textos sin preprocesar. Que pasaria si remuevo las palabras mas comunes, las url que aparecen, las llamadas con arroba a otros usuarios, pues no tienen que ver con si el contenido del tweet es verdadero o no\n"
   ]
  },
  {
   "cell_type": "markdown",
   "metadata": {},
   "source": [
    "### Procesamiento del texto"
   ]
  },
  {
   "cell_type": "code",
   "execution_count": 9,
   "metadata": {},
   "outputs": [],
   "source": [
    "def quitar_stopwords(texto):\n",
    "    texto=' '.join([word for word in texto.split() if word not in english_stopwords])\n",
    "    return texto"
   ]
  },
  {
   "cell_type": "code",
   "execution_count": 10,
   "metadata": {},
   "outputs": [],
   "source": [
    "def quitar_menciones(texto):\n",
    "    texto=' '.join([palabra for palabra in texto.split() if '@' not in palabra])\n",
    "    return texto"
   ]
  },
  {
   "cell_type": "code",
   "execution_count": 11,
   "metadata": {},
   "outputs": [],
   "source": [
    "Diccionario_de_lenguaje_de_internet={\n",
    "\"2day\": \"Today\",\n",
    "\"2moro\": \"Tomorrow\",\n",
    "\"2nite\": \"Tonight\",\n",
    "\"4EAE\": \"For Ever And Ever\",\n",
    "\"ABT\":\"About\",\n",
    "\"ADN\": \"Any Day Now\",\n",
    "\"AFAIC\": \"As Far As I’m Concerned\",\n",
    "\"AFAICT\": \"As Far As I Can Tell\",\n",
    "\"AFAIK\": \"As Far As I Know\",\n",
    "\"AFAIR\": \"As Far As I Remember\",\n",
    "\"AKA\": \"Also Known As\",\n",
    "\"AMA\": \"Ask Me Anything\",\n",
    "\"ASAIC\": \"As Soon As I Can\",\n",
    "\"ASAP\": \"As Soon As Possible\",\n",
    "\"ATM\": \"At The Moment\",\n",
    "\"B4\": \"Before\",\n",
    "\"B4N\": \"Bye For Now\",\n",
    "\"Bae\": \"Babe/Before Anyone Else\",\n",
    "\"BBL\": \"Be Back Later\",\n",
    "\"BBT\": \"Be Back Tomorrow\",\n",
    "\"BCNU\": \"Be Seeing You\",\n",
    "\"BD\": \"Big Deal\",\n",
    "\"BF\": \"Boyfriend\",\n",
    "\"BFF\": \"Best Friends Forever\",\n",
    "\"BMT\": \"Before My Time\",\n",
    "\"BOL\": \"Be On Later\",\n",
    "\"BOT\": \"Back On Topic\",\n",
    "\"BRB\": \"Be Right Back\",\n",
    "\"BRO\": \"Brother\",\n",
    "\"BT\": \"But\",\n",
    "\"BTW\": \"By The Way\",\n",
    "\"CFY\": \"Calling For You\",\n",
    "\"CU\": \"See You\",\n",
    "\"CUL\": \"See You Later\",\n",
    "\"Cuz\": \"Because\",\n",
    "\"CYA\": \"Cover Your Ass\",\n",
    "\"DAE\": \"Does Anyone Else\",\n",
    "\"DBA\": \"Doing Business As\",\n",
    "\"DFTBA\": \"Don’t Forget To Be Awesome\",\n",
    "\"DIKU\": \"Do I Know You\",\n",
    "\"DM\": \"Direct Message\",\n",
    "\"DND\": \"Do Not Disturb\",\n",
    "\"DR\": \"Double Rainbow\",\n",
    "\"DWBH\": \"Don’t Worry, Be Happy\",\n",
    "\"ELI5\": \"Explain Like I’m 5\",\n",
    "\"EOM\": \"End Of Message\",\n",
    "\"EOS\": \"End Of Story\",\n",
    "\"F2F\": \"Face To Face\",\n",
    "\"FAQ\": \"Frequently Asked Question\",\n",
    "\"FB\": \"Facebook\",\n",
    "\"FBF\": \"Flash Back Friday\",\n",
    "\"FF\": \"Follow Friday\",\n",
    "\"FIFY\": \"Fixed It For You\",\n",
    "\"FITB\": \"Fill In The Blank\",\n",
    "\"FML\": \"Fuck My Life\",\n",
    "\"FOMO\": \"Fear Of Missing Out\",\n",
    "\"FTFY\": \"Fixed That For You\",\n",
    "\"FTL\": \"For The Loss\",\n",
    "\"FTW\": \"For The Win\",\n",
    "\"FWB\": \"Friends With Benefits\",\n",
    "\"FWIW\": \"For What It’s Worth\",\n",
    "\"FYE\": \"For Your Entertainment\",\n",
    "\"FYEO\": \"For Your Eyes Only\",\n",
    "\"FYI\": \"For Your Information\",\n",
    "\"GA\": \"Go Ahead\",\n",
    "\"GAL\": \"Get A Life\",\n",
    "\"GF\": \"Girlfriend\",\n",
    "\"GM\": \"Good Morning\",\n",
    "\"GN\": \"Good Night\",\n",
    "\"Gr8\": \"Great\",\n",
    "\"GTR\": \"Getting Ready\",\n",
    "\"HAND\": \"Have A Nice Day\",\n",
    "\"HB\": \"Hurry Back\",\n",
    "\"HBD\": \"Happy Birthday\",\n",
    "\"HBU\": \"How About You\",\n",
    "\"HMB\": \"Hit Be Back\",\n",
    "\"HMU\": \"Hit Me Up\",\n",
    "\"HRU\": \"How Are You\",\n",
    "\"HTH\": \"Hope This Helps\",\n",
    "\"IAC\": \"In Any Case\",\n",
    "\"IC\": \"I See\",\n",
    "\"ICYMI\": \"In Case You Missed It\",\n",
    "\"IDC\": \"I Don’t Care\",\n",
    "\"IDK\": \"I Don’t Know\",\n",
    "\"IG\": \"Instagram\",\n",
    "\"IIRC\": \"If I Remember Correctly\",\n",
    "\"IKR\": \"I Know Right\",\n",
    "\"ILY\": \"I Love You\",\n",
    "\"IMHO\": \"In My Humble Opinion\",\n",
    "\"IMMD\": \"It Made My Day\",\n",
    "\"IMY\": \"I Miss You\",\n",
    "\"IRL\": \"In Real Life\",\n",
    "\"IS\": \"I’m Sorry\",\n",
    "\"ISO\": \"In Search Of\",\n",
    "\"IU2U\": \"It’s Up To You\",\n",
    "\"J4F\": \"Just For Fun\",\n",
    "\"JAM\": \"Just A Minute\",\n",
    "\"JFY\": \"Just For You\",\n",
    "\"JIC\": \"Just In Case\",\n",
    "\"JK\": \"Just Kidding\",\n",
    "\"JSYK\": \"Just So You Know\",\n",
    "\"KK\": \"Okay\",\n",
    "\"L8\": \"Late\",\n",
    "\"L8R\": \"Later\",\n",
    "\"LMA\": \"Leave Me Alone\",\n",
    "\"LMAO\": \"Laughing My Ass Off\",\n",
    "\"LMBO\": \"Laughing My Butt Off\",\n",
    "\"LMK\": \"Let Me Know\",\n",
    "\"LOL\": \"Laugh Out Loud\",\n",
    "\"LTNS\": \"Long Time No See\",\n",
    "\"LYLAS\": \"Love You Like A Sister\",\n",
    "\"M/F\": \"Male or Female\",\n",
    "\"M8\": \"Mate\",\n",
    "\"MP\": \"My pleasure\",\n",
    "\"MSM\": \"Mainstream Media\",\n",
    "\"MU\": \"Miss You\",\n",
    "\"MYOB\": \"Mind Your Own Business\",\n",
    "\"NAGI\": \"Not A Good Idea\",\n",
    "\"NBD\": \"No Big Deal\",\n",
    "\"NE1\": \"Anyone\",\n",
    "\"NM\": \"Not Much\",\n",
    "\"NP\": \"No Problem\",\n",
    "\"NSFL\": \"Not Safe For Life\",\n",
    "\"NSFW\": \"Not Safe For Work\",\n",
    "\"NTS\": \"Note To Self\",\n",
    "\"NVM\": \"Never Mind\",\n",
    "\"OC\": \"Original Content\",\n",
    "\"OH\": \"Overheard\",\n",
    "\"OIC\": \"Oh ! I See\",\n",
    "\"OMD\": \"Oh My Damn\",\n",
    "\"OMG\": \"Oh My Goodness\",\n",
    "\"OMW\": \"On My Way\",\n",
    "\"OT\": \"Off Topic\",\n",
    "\"OFC\": \"Of course\",\n",
    "\"PAW\": \"Parents Are Watching\",\n",
    "\"Pls\": \"Please\",\n",
    "\"POTD\": \"Photo Of The Day\",\n",
    "\"POV\": \"Point Of View\",\n",
    "\"PPL\": \"People\",\n",
    "\"PTB\": \"Please Text Back\",\n",
    "\"Q4U\": \"Question For You\",\n",
    "\"QQ\": \"Crying\",\n",
    "\"RBTL\": \"Read Between The Lines\",\n",
    "\"RIP\": \"Rest In Peace\",\n",
    "\"RL\": \"Real Life\",\n",
    "\"ROFL\": \"Rolling On the Floor Laughing\",\n",
    "\"RT\": \"Retweet\",\n",
    "\"RTM\": \"Read The Manual\",\n",
    "\"SIS\": \"Sister\",\n",
    "\"SITD\": \"Still In The Dark\",\n",
    "\"SM\": \"Social Media\",\n",
    "\"SMH\": \"Shaking My Head\",\n",
    "\"SMY\": \"Somebody\",\n",
    "\"SNH\": \"Sarcasm Noted Here\",\n",
    "\"SOL\": \"Sooner Or Later\",\n",
    "\"Some1\": \"Someone\",\n",
    "\"SRSLY\": \"Seriously\",\n",
    "\"STBY\": \"Sucks To Be You\",\n",
    "\"Str8\": \"Straight\",\n",
    "\"SYS\": \"See You Soon\",\n",
    "\"TBA\": \"To Be Announced\",\n",
    "\"TBH\": \"To Be Honest\",\n",
    "\"TBT\": \"Throwback Thursday\",\n",
    "\"TBT\": \"Truth Be Told\",\n",
    "\"TFH\": \"Thread From Hell\",\n",
    "\"TFTI\": \"Thanks For The Invite\",\n",
    "\"TGIF\": \"Thank God It’s Friday\",\n",
    "\"THX\": \"Thanks\",\n",
    "\"TIA\": \"Thanks in Advance\",\n",
    "\"TIL\": \"Today I Learned\",\n",
    "\"TIME\": \"Tears In My Eyes\",\n",
    "\"TL;DR\": \"Too Long; Didn’t Read\",\n",
    "\"TLDR\":\"Too long didn’t read\",\n",
    "\"TL DR\":\"Too long didn’t read\",\n",
    "\"TLC\": \"Tender Loving Care\",\n",
    "\"TMI\": \"Too Much Information\",\n",
    "\"TTYL\": \"Talk To You Later\",\n",
    "\"TTYS\": \"Talk To You Soon\",\n",
    "\"Txt\": \"Text\",\n",
    "\"TYVM\": \"Thank You Very Much\",\n",
    "\"U\": \"You\",\n",
    "\"U4F\": \"You Forever\",\n",
    "\"UR\": \"Your\",\n",
    "\"VBG\": \"Very Big Grin\",\n",
    "\"VSF\": \"Very Sad Face\",\n",
    "\"WB\": \"Welcome Back\",\n",
    "\"WBU\": \"What About You?\",\n",
    "\"WEG\": \"Wicked Evil Grin\",\n",
    "\"WKND\": \"Weekend\",\n",
    "\"WOM\": \"Word of Mouth\",\n",
    "\"WOTD\": \"Word Of The Day\",\n",
    "\"Wru\": \"Who Are You\",\n",
    "\"WTH\": \"What The Heck?\",\n",
    "\"WTPA\": \"Where The Party At?\",\n",
    "\"WU?\": \"What's Up\",\n",
    "\"WU\":\"What's Up\",\n",
    "\"WYCM\": \"Will You Call Me?\",\n",
    "\"WYWH\": \"Wish You Were Here\",\n",
    "\"XOXO\": \"Hugs and Kisses\",\n",
    "\"YGM\": \"You’ve Got Mail\",\n",
    "\"YNK\": \"You Never Know\",\n",
    "\"YOLO\": \"You Only Live Once\",\n",
    "\"YT\": \"YouTube\",\n",
    "\"YW\": \"You’re Welcome\",\n",
    "}"
   ]
  },
  {
   "cell_type": "code",
   "execution_count": 12,
   "metadata": {},
   "outputs": [],
   "source": [
    "def reemplazar_lenguaje_internet(texto):\n",
    "    texto=texto.upper()\n",
    "    palabras=texto.split()\n",
    "    palabras_procesadas=[]\n",
    "    for palabra in palabras:\n",
    "        traduccion=Diccionario_de_lenguaje_de_internet.get(palabra,'not internet slang')\n",
    "        if(traduccion!='not internet slang'):\n",
    "            lista_aux=traduccion.split()\n",
    "            for x in lista_aux:\n",
    "                palabras_procesadas.append(x.lower())\n",
    "        else:\n",
    "            palabras_procesadas.append(palabra.lower())\n",
    "    texto=' '.join([word for word in palabras_procesadas])\n",
    "    return texto"
   ]
  },
  {
   "cell_type": "code",
   "execution_count": 13,
   "metadata": {},
   "outputs": [],
   "source": [
    "diccionario_contracciones = {  \"ain't\": \"is not\",\n",
    "                               \"aint\":\"is not\",\n",
    "                               \"aren't\": \"are not\",\n",
    "                               \"arent\":\"are not\",\n",
    "                               \"can't\": \"can not\",\n",
    "                               \"cant\":\"can not\",\n",
    "                               \"cause\": \"because\",\n",
    "                               \"could've\": \"could have\",\n",
    "                               \"couldve\":\"could have\",\n",
    "                               \"couldn't\": \"could not\",\n",
    "                               \"couldnt\":\"could not\",\n",
    "                               \"didn't\": \"did not\", \n",
    "                               \"didnt\":\"did not\",\n",
    "                               \"doesn't\": \"does not\",\n",
    "                               \"doesnt\":\"does not\",\n",
    "                               \"don't\": \"do not\",\n",
    "                               \"dont\":\"do not\",\n",
    "                               \"hadn't\": \"had not\",\n",
    "                               \"hadnt\":\"had not\",\n",
    "                               \"hasn't\": \"has not\",\n",
    "                               \"hasnt\":\"has not\",\n",
    "                               \"haven't\": \"have not\",\n",
    "                               \"havent\":\"have not\",\n",
    "                               \"he'd\": \"he would\",\n",
    "                               \"hed\":\"he would\",\n",
    "                               \"he'll\": \"he will\",\n",
    "                               \"he ll\":\"he will\",\n",
    "                               \"he's\": \"he is\",\n",
    "                               \"hes\":\"he is\",\n",
    "                               \"how'd\": \"how did\",\n",
    "                               \"howd\":\"how did\",\n",
    "                               \"how'd'y\": \"how do you\",\n",
    "                               \"howdy\":\"how do you\",\n",
    "                               \"how'll\": \"how will\",\n",
    "                               \"howll\":\"how will\",\n",
    "                               \"how's\": \"how is\",\n",
    "                               \"hows\":\"how is\",\n",
    "                               \"I'd\": \"I would\",\n",
    "                               \"id\":\"i would\",\n",
    "                               \"I'd've\": \"I would have\",\n",
    "                               \"idve\":\"i would have\",\n",
    "                               \"I'll\": \"I will\", \n",
    "                               \"Ill\":\"i will\", #duda: si algun tweet habla de un enfermo puede traer ruido\n",
    "                               \"I'll've\": \"I will have\",\n",
    "                               \"I'm\": \"I am\", \n",
    "                               \"im\":\"i am\",\n",
    "                               \"I've\": \"I have\",\n",
    "                               \"ive\":\"i have\",\n",
    "                               \"i'd\": \"i would\",\n",
    "                               \"i'd've\": \"i would have\",\n",
    "                               \"i'll\": \"i will\",\n",
    "                               \"i'll've\": \"i will have\",\n",
    "                               \"i'm\": \"i am\", \n",
    "                               \"im\":\"i am\",\n",
    "                               \"i've\": \"i have\",\n",
    "                               \"isn't\": \"is not\",\n",
    "                               \"isnt\":\"is not\",\n",
    "                               \"it'd\": \"it would\",\n",
    "                               \"itd\":\"it would\",\n",
    "                               \"it'd've\": \"it would have\",\n",
    "                               \"it'll\": \"it will\",\n",
    "                               \"itll\":\"it will\",\n",
    "                               \"it'll've\": \"it will have\",\n",
    "                               \"it's\": \"it is\",\n",
    "                               \"its\":\"it is\",\n",
    "                               \"let's\": \"let us\",\n",
    "                               \"lets\":\"let us\",\n",
    "                               \"ma'am\": \"madam\",\n",
    "                               \"maam\":\"madam\",\n",
    "                               \"mayn't\": \"may not\",\n",
    "                               \"maynt\":\"may not\",\n",
    "                               \"might've\": \"might have\",\n",
    "                               \"mightve\":\"might have\",\n",
    "                               \"mightn't\": \"might not\",\n",
    "                               \"mightnt\":\"might not\",\n",
    "                               \"mightn't've\": \"might not have\",\n",
    "                               \"must've\": \"must have\",\n",
    "                               \"mustve\":\"must have\",\n",
    "                               \"mustn't\": \"must not\",\n",
    "                               \"mustnt\":\"must not\",\n",
    "                               \"mustn't've\": \"must not have\",\n",
    "                               \"needn't\": \"need not\",\n",
    "                               \"neednt\":\"need not\",\n",
    "                               \"needn't've\": \"need not have\",\n",
    "                               \"o'clock\": \"of the clock\",\n",
    "                               \"oclock\":\"of the clock\",\n",
    "                               \"oughtn't\": \"ought not\",\n",
    "                               \"oughtnt\":\"ought not\",\n",
    "                               \"oughtn't've\": \"ought not have\",\n",
    "                               \"shan't\": \"shall not\",\n",
    "                               \"shant\":\"shall not\",\n",
    "                               \"sha'n't\": \"shall not\",\n",
    "                               \"shan't've\": \"shall not have\",\n",
    "                               \"she'd\": \"she would\",\n",
    "                               \"shed\":\"she would\",\n",
    "                               \"she'd've\": \"she would have\",\n",
    "                               \"she'll\": \"she will\",\n",
    "                               \"shell\":\"she will\",#nuevamente aca tengo ruido por dos palabras igual escritas\n",
    "                               \"she'll've\": \"she will have\", \n",
    "                               \"she's\": \"she is\",\n",
    "                               \"shes\":\"she is\",\n",
    "                               \"should've\": \"should have\",\n",
    "                               \"shouldve\":\"should have\",\n",
    "                               \"shouldn't\": \"should not\",\n",
    "                               \"shouldnt\": \"should not\",\n",
    "                               \"shouldn't've\": \"should not have\",\n",
    "                               \"so've\": \"so have\",\n",
    "                               \"so's\": \"so as\",\n",
    "                               \"this's\": \"this is\",\n",
    "                               \"that'd\": \"that would\",\n",
    "                               \"that'd've\": \"that would have\",\n",
    "                               \"that's\": \"that is\",\n",
    "                               \"thats\":\"that is\",\n",
    "                               \"there'd\": \"there would\",\n",
    "                               \"thered\":\"there would\",\n",
    "                               \"there'd've\": \"there would have\",\n",
    "                               \"there's\": \"there is\",\n",
    "                               \"theres\":\"there is\",\n",
    "                               \"here's\": \"here is\",\n",
    "                               \"heres\":\"here is\",\n",
    "                               \"they'd\": \"they would\",\n",
    "                               \"theyd\":\"they would\",\n",
    "                               \"they'd've\": \"they would have\",\n",
    "                               \"they'll\": \"they will\",\n",
    "                               \"theyll\":\"they will\",\n",
    "                               \"they'll've\": \"they will have\", \n",
    "                               \"they're\": \"they are\",\n",
    "                               \"theyre\":\"they are\",\n",
    "                               \"they've\": \"they have\", \n",
    "                               \"theyve\":\"they have\",\n",
    "                               \"to've\": \"to have\", \n",
    "                               \"tove\":\"to have\",\n",
    "                               \"wasn't\": \"was not\",\n",
    "                               \"wasnt\":\"was not\",\n",
    "                               \"we'd\": \"we would\",\n",
    "                               \"wed\":\"we would\",#aca nuevamente hay conflicto\n",
    "                               \"we'd've\": \"we would have\",\n",
    "                               \"we'll\": \"we will\",\n",
    "                               \"we'll've\": \"we will have\",\n",
    "                               \"we're\": \"we are\",\n",
    "                               \"we've\": \"we have\",\n",
    "                               \"weren't\": \"were not\",\n",
    "                               \"werent\":\"were not\",\n",
    "                               \"what'll\": \"what will\",\n",
    "                               \"whatll\":\"what will\",\n",
    "                               \"what'll've\": \"what will have\",\n",
    "                               \"what're\": \"what are\", \n",
    "                               \"whatre\":\"what are\",\n",
    "                               \"what's\": \"what is\",\n",
    "                               \"whats\":\"what is\",\n",
    "                               \"what've\": \"what have\",\n",
    "                               \"whatve\":\"what have\",\n",
    "                               \"when's\": \"when is\",\n",
    "                               \"whens\":\"when is\",\n",
    "                               \"when've\": \"when have\",\n",
    "                               \"whenve\":\"when have\",\n",
    "                               \"where'd\": \"where did\",\n",
    "                               \"whered\":\"where did\",\n",
    "                               \"where's\": \"where is\",\n",
    "                               \"wheres\":\"where is\",\n",
    "                               \"where've\": \"where have\",\n",
    "                               \"whereve\":\"where have\",\n",
    "                               \"who'll\": \"who will\", \n",
    "                               \"wholl\":\"who will\",\n",
    "                               \"who'll've\": \"who will have\",\n",
    "                               \"who's\": \"who is\",\n",
    "                               \"whos\":\"who is\",\n",
    "                               \"who've\": \"who have\",\n",
    "                               \"whove\":\"who have\",\n",
    "                               \"why's\": \"why is\",\n",
    "                               \"whys\":\"why is\",\n",
    "                               \"why've\": \"why have\",\n",
    "                               \"whyve\":\"why have\",\n",
    "                               \"will've\": \"will have\",\n",
    "                               \"willve\":\"will have\",\n",
    "                               \"won't\": \"will not\",\n",
    "                               \"wont\":\"will not\",\n",
    "                               \"won't've\": \"will not have\",\n",
    "                               \"would've\": \"would have\",\n",
    "                               \"wouldve\":\"would have\",\n",
    "                               \"wouldn't\": \"would not\",\n",
    "                               \"wouldnt\":\"would not\",\n",
    "                               \"wouldn't've\": \"would not have\",\n",
    "                               \"y'all\": \"you all\",\n",
    "                               \"yall\":\"you all\",\n",
    "                               \"y'all'd\": \"you all would\",\n",
    "                               \"yalld\":\"you all would\",\n",
    "                               \"y'all'd've\": \"you all would have\",\n",
    "                               \"y'all're\": \"you all are\",\n",
    "                               \"yallre\":\"you all are\",\n",
    "                               \"y'all've\": \"you all have\",\n",
    "                               \"you'd\": \"you would\",\n",
    "                               \"youd\":\"you would\",\n",
    "                               \"you'd've\": \"you would have\",\n",
    "                               \"you'll\": \"you will\",\n",
    "                               \"youll\":\"you will\",\n",
    "                               \"you'll've\": \"you will have\",\n",
    "                               \"you're\": \"you are\",\n",
    "                               \"youre\":\"you are\",\n",
    "                               \"you've\": \"you have\",\n",
    "                               \"youve\":\"you have\"}\n"
   ]
  },
  {
   "cell_type": "code",
   "execution_count": 14,
   "metadata": {},
   "outputs": [],
   "source": [
    "def reemplazar_contracciones(texto):\n",
    "    texto=texto.lower()\n",
    "    palabras=texto.split()\n",
    "    palabras_procesadas=[]\n",
    "    for palabra in palabras:\n",
    "        traduccion=diccionario_contracciones.get(palabra,'no es contraccion')\n",
    "        if(traduccion!='no es contraccion'):\n",
    "            lista_aux=traduccion.split()\n",
    "            for x in lista_aux:\n",
    "                palabras_procesadas.append(x.lower())\n",
    "        else:\n",
    "            palabras_procesadas.append(palabra.lower())\n",
    "    texto=' '.join([word for word in palabras_procesadas])\n",
    "    return texto"
   ]
  },
  {
   "cell_type": "code",
   "execution_count": 15,
   "metadata": {},
   "outputs": [],
   "source": [
    "diccionario_separador={\n",
    "    'supporthealthhomebathroomsupportelderlyinjuredsû':\"support health home bathrooms support elderly injured\",\n",
    "    'rockefellerchirockefellerunivheiress': 'Rockefeller chi Rockefeller university heiress',\n",
    "    \"choppergatebronwynbishopauspol\":\"chopper-gate Browyn Bishop Australia politician\",\n",
    "    \"thisiswhywecanthavenicethings\":\"this is why we cant have nice things\",\n",
    "    \"preparedelectrocutedboiling\":\"prepared electrocuted boiling\",\n",
    "    \"theresmorewherethatcamefrom\":\"there is more where that came from\",\n",
    "    \"toxiccancerdiseasehazardous\":\"toxic cancer disease hazardous\",\n",
    "    \"debatequestionswewanttohear\":\"debate questions we want to hear\",\n",
    "    \"noonancindynoonanheartbreak\":\"Noonan Cindy Noonan Heartbreak\",\n",
    "    \"cantwaittoplayinminneapolis\":\"cant wait to play in Minneapolis\",\n",
    "    \"measuresarrestpastornganga\":\"measures against pastor Nganga\",\n",
    "    \"creativitybalancelongevity\":\"creativity balance longevity\",\n",
    "    \"worldnetdailyhomosexuality\":\"WorldNetDaily homosexuality\",\n",
    "    \"givebackkalinwhiteaccount\":\"give back Kalin White account\",\n",
    "    \"nuclearbiologicalchemical\":\"nuclear biological chemical\",\n",
    "    \"freesikhpoliticalprisnors\":\"free Sikh political prisoners\",\n",
    "    \"organizationsfluctuations\":\"organizations fluctuations\",\n",
    "    \"newbeginningsanimalrescue\":\"new beginnings animal rescue\",\n",
    "    \"questionfatalityflawless\":\"question fatality flawless\",\n",
    "    \"refugeesvictimiserdutton\":\"refugees victimizer Dutton\",\n",
    "    \"bathandnortheastsomerset\":\"Bath and North East Somerset\",\n",
    "    \"catastrophicfallenangel\":\"catastrophic fallen angel\",\n",
    "    \"areavoluntaryinciwebmad\":\"area voluntary Inciweb Mad\",\n",
    "    \"postapocalypticflimflam\":\"post-apocalyptic Flim-Flam\",\n",
    "    \"speakingfromexperience\":\"speaking from experience\",\n",
    "    \"belowthemasondixonline\":\"below the Mason Dixon Land\",\n",
    "    \"undergroundbestsellers\":\"Underground bestseller\",\n",
    "    \"displacedinjuredkilled\":\"displaced injured killed\",\n",
    "    \"weallheartonedirection\":\"we all love One Direction\",\n",
    "    \"antiochhickoryhollowtn\":\"Antioch Hickory Hollow Tennesse\",\n",
    "    \"hijackerturnedsattutor\":\"hijacker turned SAT tutor\",\n",
    "    \"growingupincoloradoû\":\"growing up in Colorado\",\n",
    "    \"ayhhhhhdjjfjrjjrdjjeks\":\" \",\n",
    "    \"thatswhatfriendsarefor\":\"that is what friends are for\",\n",
    "    \"aberystwythshrewsbury\":\"Aberystwyth Shrewsbury\" ,#welsh football\n",
    "    \"oneheartonemindonecss\":\"one heart one mind one CSS\",#singapore army\n",
    "    \"marketingåêmediocrity\":\"marketing a mediocrity\",\n",
    "    \"fuckfacewineisdumbcom\":\"fuck face wine is dumb\",\n",
    "    \"wereonadesolateplanet\":\"we are on a desolate planet\",\n",
    "    \"abuseddesolateamplost\":\"abused desolate and lost\",\n",
    "    \"pictwittercompnpizody\":\"picture twitter\",#no se que es lo que sigue, no lo encontre\n",
    "    \"texaschainsawmassacre\":\"Texas Chainsaw Massacre\",\n",
    "    \"yazidishingalgenocide\":\"Yazidis genocide\",#esto paso en irak\n",
    "    \"richelieusaintlaurent\":\"Richelieu Saint Laurent\",#producto\n",
    "    \"evangelicalliarabbott\":\"evangelical liar Abbott\",\n",
    "    \"catholicismhomophobia\":\"catholicism homophobia\",\n",
    "    \"keepingtheviginaclean\":\"keeping the vagina clean\",\n",
    "    \"indiakomuntorjawabdo\":\"India komunt or jawabdo\",\n",
    "    \"streamyxhomesouthern\":\"Streamyx home southern\",\n",
    "    \"artisteoftheweekfact\":\"artist of the week fact\",\n",
    "    \"decisionsondecisions\":\"decisions on decisions\",\n",
    "    \"legionstrackandfield\":\"Legion track and field\",#esto es de canada\n",
    "    \"shantaehalfgeniehero\":\"Shantae half genie hero\",#videojuego\n",
    "    \"gobsmackeddevastated\":\"gobsmacked devastated\",\n",
    "    \"westerncanadadrought\":\"western Canada drought\",\n",
    "    \"ggindependencmessage\":\"good game independence message\",\n",
    "    \"actionmoviestaughtus\":\"action movies taught us\",\n",
    "    \"santanicopandemonium\":\"satanic pandemonium\",\n",
    "    \"hawaiianpaddlesports\":\"Hawaiian paddle sports\",\n",
    "    \"worldwatchesferguson\":\"world watches Ferguson\",\n",
    "    \"tantonationalforest\":\"Tonto national forest\",\n",
    "    \"saltriverwildhorses\":\"Salt River wild horses\",\n",
    "    \"interestraterise\":\"interest rate rise\",\n",
    "    \"wbioterrorismampuse\":\"weapon bioterrism use\",\n",
    "    \"trollingtilmeekdiss\":\"trolling until meek diss\",\n",
    "    \"talkecologyamphuman\":\"talk ecology human\",\n",
    "    \"appreciativeinquiry\":\"appreciative inquiry\",\n",
    "    \"spillevacuationsred\":\"spill evacuations red\",\n",
    "    \"ltbgtchocolateltbgt\":\"LGBT chocolate LGBT\",\n",
    "    \"peritoengrafoscopia\":\"licensed in graphology\",\n",
    "    \"adiossuperbacterias\":\"bye super bacteries\",\n",
    "    \"theconspiracytheory\":\"the conspiracy theory\",\n",
    "    \"alcoholismaddiction\":\"alcoholism addiction\",\n",
    "    \"hotteennsfwpornmilf\":\"hot teens porn MILF\",\n",
    "    \"peoplecommunication\":\"people communication\",\n",
    "    \"conditionsprivation\":\"conditions privation\",\n",
    "    \"protectdenaliwolves\":\"protected Denali wolves\",\n",
    "    \"carlilescanoelivery\":\"Carlisle canoe livery\",\n",
    "    \"internallydisplaced\":\"internally displaced\",\n",
    "    \"greatbritishbakeoff\":\"Great British Bake Off\",\n",
    "    \"legionnairesdisease\":\"Legionnaires disease\",\n",
    "    \"deadgrassandflowers\":\"dead grass and flowers\",\n",
    "    \"undergroundrailraod\":\"underground railroad\",\n",
    "    \"nochilllukehammings\":\"no chill Luke Hemmings\",\n",
    "    \"gameplaywalkthrough\":\"gameplay walkthrought\",\n",
    "    \"mothernaturenetwork\":\"Mother Nature Network\",#nombre de una cadena de television\n",
    "    \"thunderstormtornado\":\"thunder storm tornado\",\n",
    "    \"rescueadoptionlocal\":\"rescue adoption local\",\n",
    "    \"uncertaintyeconomic\":\"uncertainty economic\",\n",
    "    \"volcanoåêinåêrussia\":\"volcano in Russia\",\n",
    "    \"kebabtahinipickles\":\"kebab tahini pickles\",\n",
    "    \"withåêannihilation\":\"with annihilation\",\n",
    "    \"infectiousdiseases\":\"infectious diseases\",\n",
    "    \"thisispublichealth\":\"this is public health\",\n",
    "    \"harperanetflixshow\":\"Harper a Netflix show\",\n",
    "    \"piperwearsthepants\":\"piper wears the pants\",\n",
    "    \"katterpì´instagram\":\"katterpi instagram\",\n",
    "    \"booradleyvancullen\":\"Boo Radley van cullen\",\n",
    "    \"ûïthehighfessions\":\"the high confessions\",\n",
    "    \"thesteveharveyshow\":\"The Steve Harvey Show\",\n",
    "    \"rewatchingthepilot\":\"re-watching the pilot\",\n",
    "    \"iwasdisappointedby\":\"i was dissappointed by\",\n",
    "    \"scseestapreparando\":\"SC is getting ready\",\n",
    "    \"darkstormytidalsea\":\"dark stormy tidal sea\",\n",
    "    \"referencereference\":\"reference reference\",\n",
    "    \"thepartyofmeanness\":\"the party of meanness\",\n",
    "    \"bangladeshaffected\":\"Bangladesh affected\",\n",
    "    \"offensiveåêcontent\":\"offensive content\",\n",
    "    \"northerncalifornia\":\"Northern California\",\n",
    "    \"championsblackfoot\":\"champions Blackfoot\",\n",
    "    \"accidentalprophecy\":\"accidental prophecy\",\n",
    "    \"cadenadeseguidores\":\"chain of followers\",\n",
    "    \"snowstormhailstorm\":\"snowstorm hailstorm\",\n",
    "    \"arrestpastornganga\":\"arrest pastor Nganga\",\n",
    "    \"prettyboyshyflizzy\":\"pretty boy Shy Glizzy\",\n",
    "    \"lavenderpoetrycafe\":\"lavender poetry cafe\",\n",
    "    \"troubleniallhariss\":\"trouble Nial Hariss\",\n",
    "    \"twisterlovesshania\":\"twister loves shania\",\n",
    "    \"foxdebatequestions\":\"Fox debate questions\",\n",
    "    \"windstormåêinsurer\":\"windstorm insurer\",\n",
    "    \"hailstormwindstorm\":\"hailstorm windstorm\",\n",
    "    \"explodingkittensû\":\"exploding kittens\",\n",
    "    \"caraccidentlawyer\":\"car accident lawyer\",\n",
    "    \"ûïleoblakecarter\":\"leo blake carter\",\n",
    "    \"preseasonworkouts\":\"preseason workouts\",\n",
    "    \"coloradoavalanche\":\"Colorado avalanche\",\n",
    "    \"youngerampgrossly\":\"younger grossly\",\n",
    "    \"elephantintheroom\":\"elephant in the room\",\n",
    "    \"underwritersenior\":\"underwriter senior\",\n",
    "    \"changefortheworse\":\"change for the worse\",\n",
    "    \"derailedbenchmark\":\"derailed benchmark\",\n",
    "    \"desolationofsmaug\":\"desolation of Smaug\",\n",
    "    \"connectorconnecto\":\"connector connect\",\n",
    "    \"indianperpetrated\":\"Indian perpetrated\",\n",
    "    \"typhoondevastated\":\"typhoon devastated\",\n",
    "    \"hiroshimanagasaki\":\"Hiroshima Nagasaki\",\n",
    "    \"strategicpatience\":\"strategic patience\",\n",
    "    \"socialmediadriven\":\"social media driven\",\n",
    "    \"û÷exceptionalûª\":\"exceptional\",\n",
    "    \"cactusborderlands\":\"cactus borderlands\",\n",
    "    \"archipelagowolves\":\"Archipielago wolves\",\n",
    "    \"imkeepingmydayjob\":\"i am keeping my day job\",\n",
    "    \"siteinvestigating\":\"site investigating\",\n",
    "    \"doingûahhhûthat\":\"doing that\",\n",
    "    \"dontexpectnothing\":\"do not expect nothing\",\n",
    "    \"bigåêconsequences\":\"big consequences\",\n",
    "    \"notgoingoutinthat\":\"not going out in that\",\n",
    "    \"plannedparenthood\":\"planned parenthood\",\n",
    "    \"deejayempiresound\":\"DJ empire sound\",\n",
    "    \"browseråêhijacker\":\"browser hijacker\",\n",
    "    \"ratingscategories\":\"ratings categories\",\n",
    "    \"jeffersonampdoris\":\"Jefferson Doris\",\n",
    "    \"vancouveråêisland\":\"Vancouver Island\",#canada supongo\n",
    "    \"standardanonymous\":\"standard anonymous\",\n",
    "    \"hamptonroadsforme\":\"Hampton roads for me\",\n",
    "    \"jaylenejoybeligan\":\"jaylene joy beligan\",\n",
    "    \"onlinecommunities\":\"online communities\",\n",
    "    \"triciaoneillphoto\":\"tricia o neil photo\",\n",
    "    \"smugglersåênabbed\":\"smugglers nabbed\",\n",
    "    \"crazyideascollege\":\"crazy ideas college\",\n",
    "    \"sidjsjdjekdjskdjd\":\" \",\n",
    "    \"publicityalthough\":\"publicty although\",\n",
    "    \"destinationimpact\":\"destination impact\",\n",
    "    \"ûïlordbrathwaite\":\"lord Brathwaite\",\n",
    "    \"indistinguishable\":\"indistinguishable\",\n",
    "    \"homessponsorships\":\"homes sponsorships\",\n",
    "    \"transgenerational\":\"transgenerational\",\n",
    "    \"intragenerational\":\"intragenerational\",\n",
    "    \"profittothepeople\":\"profit to the people\", \n",
    "    \"carolinaåêablaze\":\"Carolina ablaze\",\n",
    "    \"nashvilletraffic\":\"Nashville traffic\",\n",
    "    \"growingupspoiled\":\"growing up spoiled\",\n",
    "    \"signatureschange\":\"signatures change\",\n",
    "    \"transcendblazing\":\"transcend blazing\",\n",
    "    \"revolutionblight\":\"revolution blight\",\n",
    "    \"thisdayinhistory\":\"this day in history\",\n",
    "    \"blacklivesmatter\":\"black lives matter\",\n",
    "    \"ppsellsbabyparts\":\"Planned Parenthood sells baby parts\",\n",
    "    \"blacklivesmatter\":\"black lives matter\",\n",
    "    \"francisunderwood\":\"Francis Underwood\",\n",
    "    \"propertycasualty\":\"property casualty\",\n",
    "    \"savedenaliwolves\":\"save Denali wolves\",\n",
    "    \"femalegilgameshs\":\"female Gilgamesh\",\n",
    "    \"crashsterlingwho\":\"crash Sterling who\",\n",
    "    \"salyersblairhall\":\"Salyers blair hall\",\n",
    "    \"yahoofinancehope\":\"Yahoo finance hope\",\n",
    "    \"modestmouseremix\":\"Modest Mouse remix\",\n",
    "    \"lncolyellowstone\":\"Lincoln Yellowstone\",\n",
    "    \"ausinstarchitect\":\"Australian institute architect\",\n",
    "    \"cdcwhistleblower\":\"CDC whistleblower\",\n",
    "    \"infectionsdeaths\":\"infections deaths\",\n",
    "    \"notrocketscience\":\"not rocket science\",\n",
    "    \"contentmarketing\":\"content marketing\",\n",
    "    \"abbruchsimulator\":\"demolition simulator\",\n",
    "    \"blacklivesmatter\":\"black lives matter\",\n",
    "    \"institutionalize\":\"institutionalize\",\n",
    "    \"streetjamzdotnet\":\"street jamz net\",\n",
    "    \"megadethsymphony\":\"Megadeth symphony\",\n",
    "    \"detonateampshots\":\"detonate shots\",\n",
    "    \"û÷devastatedûª\":\"devastated\",\n",
    "    \"disasterrecovery\":\"disaster recovery\",\n",
    "    \"disastereoficial\":\"disaster official\",\n",
    "    \"expressioncheeks\":\"expression cheeks\",\n",
    "    \"wouldelectrocute\":\"would electrocute\",\n",
    "    \"rowysolouisville\":\"rowy so Louiseville\",\n",
    "    \"famineåêmemories\":\"famine memories\",\n",
    "    \"luchaunderground\":\"underground fight\",\n",
    "    \"robertcalifornia\":\"Robert California\",\n",
    "    \"particulatebreak\":\"particulate break\",\n",
    "    \"naturaldisasters\":\"natural disaster\",\n",
    "    \"humanconsumption\":\"human consumption\",\n",
    "    \"multidimensional\":\"multidimensional\",\n",
    "    \"humanconsumption\":\"humanconsumption\",\n",
    "    \"flavorchargedtea\":\"flavor charged tea\",\n",
    "    \"û÷ransomwareûª\":\"ransomware\",\n",
    "    \"hurricanetyphoon\":\"hurricane typhoon\",\n",
    "    \"angelriveralibû\":\"Angel Rivera\",\n",
    "    \"disabledveterans\":\"disabled veterans\",\n",
    "    \"lawûónegligence\":\"law negligence\",\n",
    "    \"commoditiesåêare\":\"commodities are\",\n",
    "    \"lulgzimbestpicts\":\"best pictures\",\n",
    "    \"disasterhospital\":\"disaster hospital\",\n",
    "    \"defensenewscomus\":\"defense news comus\",\n",
    "    \"byebyesoundcloud\":\"bye bye sound cloud\",\n",
    "    \"labourleadership\":\"labour leadership\",\n",
    "    \"copalibertadores\":\"Libertadores cup\",\n",
    "    \"romanticsuspense\":\"romantic suspense\",\n",
    "    \"puledotechupdate\":\"puledo tech update\",\n",
    "    \"romanatwoodvlogs\":\"Romana Twoods vlogs\",\n",
    "    \"childhooddefined\":\"childhood defined\",\n",
    "    \"seismicresistant\":\"seismic resistant\",\n",
    "    \"marriedfoxysiren\":\"married foxy siren\",\n",
    "    \"sirensicebreaker\":\"sirens ice breaker\",\n",
    "    \"snowstormdespite\":\"snowstorm despite\",\n",
    "    \"luchaunderground\":\"underground fight\",\n",
    "    \"stretcherbearers\":\"streacher bearers\",\n",
    "    \"explosivesrigged\":\"explosives rigged\",\n",
    "    \"ûïbbcwomanshour\":\"woman hour\",\n",
    "    \"counterterrorism\":\"counter terrorism\",\n",
    "    \"fightåêterrorism\":\"fight terrorism\",\n",
    "    \"muslimsterrorism\":\"muslim terrorism\",\n",
    "    \"û÷vulnerableûª\":\"vulnerable\",\n",
    "    \"bantrophyhunting\":\"ban trophy hunting\",\n",
    "    \"malaysiaairlines\":\"Malaysia Airlines\",\n",
    "    \"explosivespacked\":\"explosives packed\",\n",
    "#   \"goooooooaaaaaal\" no olvidar hacer una funcion que saque cosas como esta del texto\n",
    "    \"rejectdcartoons\":\"rejected cartoons\",\n",
    "    \"floydmayweather\":\"Floyd Mayweather\",\n",
    "    \"violentfeminazi\":\"violent feminazi\",\n",
    "    \"alexandrapullin\":\"Alexandra Pullin\",\n",
    "    \"aberdeenfanpage\":\"Aberdeen fanpage\",\n",
    "    \"acebreakingnews\":\"ace breaking news\",\n",
    "    \"sportsroadhouse\":\"Sports Roadhouse\",\n",
    "    \"û÷avalancheûª\":\"avalanche\",\n",
    "    \"sexydragonmagic\":\"sexy dragon magic\",\n",
    "    \"biosurveillance\":\"bio surveillance\",\n",
    "    \"drrichardbesser\":\"doctor Richard Besser\",\n",
    "    \"thelonevirologi\":\"the lone virology\",\n",
    "    \"stationcdrkelly\":\"station commander Kelly\",#NASa\n",
    "    \"officialcoredjs\":\"official core DJ\",\n",
    "    \"audacityjamesta\":\"audacity james\",\n",
    "    \"guiltygearxxacp\":\"Guilty Gear XX Accent Core Plus\",# fighting videogame\n",
    "    \"acousticmaloley\":\"acoustic maloley\",\n",
    "    \"coloiccarnality\":\"coloic carnality\",\n",
    "    \"weloverobdyrdek\":\"we love Rob Dyrdek\",\n",
    "    \"parksboardfacts\":\"parks board facts\",\n",
    "    \"locksmithingart\":\"locksmithing art\",\n",
    "    \"stevenontwatter\":\"steven on twitter\",\n",
    "    \"pussyxdestroyer\":\"pussy destroyer\",\n",
    "    \"emilymcfcheslop\":\"Emily Mcfcheslop\",\n",
    "    \"machinegunkelly\":\"Machine Gun Kelly\",#famous rapper\n",
    "    \"dapurplesharpie\":\"professional videogamer\",#professional videogamer\n",
    "    \"elutranscendent\":\"elu transcendent\",\n",
    "    \"officialrealrap\":\"official real rap\",\n",
    "    \"catsofinstagram\":\"cats of Instagram\",\n",
    "    \"hereticofethics\":\"heretic of ethics\",\n",
    "    \"danielsahyounie\":\"Daniel Sahyounie\",#comedian\n",
    "    \"carajdeievingnc\":\"Cara Delevigne\",#professional model\n",
    "    \"hatchetwielding\":\"hatchet wielding\",\n",
    "    \"christopherszen\":\"Christopher Szen\",\n",
    "    \"rtsampdemocracy\":\"retweet democracy\",\n",
    "    \"themagickidraps\":\"the Magic Kid raps\",\n",
    "    \"rockbottomradfm\":\"rock bottom rad fuck me\",\n",
    "    \"greenbuildermag\":\"Green Builder magazine\",\n",
    "    \"purpleturtlerdg\":\"Purple Turtle Reading\",\n",
    "    \"giantgiantsound\":\"giant giant sound\",\n",
    "    \"lightningcaused\":\"lightning caused\",\n",
    "    \"aiiamericangiri\":\"all American girl\",\n",
    "    \"jamaicaobserver\":\"Jamaica observer\",\n",
    "    \"johnfromcranber\":\"Jogn from cranber\",\n",
    "    \"libertarianluke\":\"Libertarian Luke\",\n",
    "    \"lasvegaslocally\":\"Las Vegas locally\",\n",
    "    \"fallingoffstool\":\"falling off stool\",\n",
    "    \"alcoholandmetal\":\"alcohol and metal\",\n",
    "    \"masochisticmage\":\"masochistic mage\",\n",
    "    \"christielinford\":\"Christie Linford\",\n",
    "    \"alexjacobsonpfs\":\"Alex Jacobs on pfs\",\n",
    "    \"sincerelyevelnn\":\"Sincerley Evelyn\",\n",
    "    \"darkhorsecomics\":\"Dark Horse comics\",\n",
    "    \"organicallyrude\":\"organically rude\",\n",
    "    \"lesleychappelle\":\"Lesley Chappelle\",\n",
    "    \"thedoolinggroup\":\"the dooling group\",\n",
    "    \"gilmoreguysshow\":\"Gilmore Guys show\",\n",
    "    \"lifethreatening\":\"life threatening\",\n",
    "    \"niagaravehicles\":\"Niagara vehicles\",\n",
    "    \"kierannicholson\":\"Kieran Nicholson\",\n",
    "    \"crushmtvhottest\":\"crush MTV hottest\",\n",
    "    \"tiffanyfrizzell\":\"Tiffany Frizzell\",\n",
    "    \"jaureguiswisdom\":\"Jaureguis wisdom\",\n",
    "    \"cristianinspire\":\"Cristian Spire\",\n",
    "    \"electronicmusic\":\"Electronic music\",\n",
    "    \"mccauleysdesign\":\"McCauley design\",\n",
    "    \"wordpressdotcom\":\"wordpress.com\",\n",
    "    \"wonderousallure\":\"wonderous allure\",\n",
    "    \"roadwayproperty\":\"roadway property\",\n",
    "    \"richarkkirkarch\":\"Richard Kirk architect\",\n",
    "    \"financialreview\":\"financial review\",\n",
    "    \"spaceangelseven\":\"space angel seven\",\n",
    "    \"turnedonfetaboo\":\"turned on Fetaboo\",\n",
    "    \"rightsgenerally\":\"rights generally\",\n",
    "    \"babalmaowelcome\":\"babal mao welcome\",\n",
    "    \"beclearoncancer\":\"be clear on cancer\",\n",
    "    \"highqualitybird\":\"high quality bird\",\n",
    "    \"stephaniemarija\":\"Stephanie Marija\",\n",
    "    \"meditationbymsg\":\"meditation by message\",\n",
    "    \"avigdorliberman\":\"Avigdor Lieberman\",#politico israeli\n",
    "    \"angusmacneilsnp\":\"Angus MacNeil Scottish National Party\", #british politician\n",
    "    \"davidvonderhaar\":\"David Vonderhaar videogame\",#videogame designer\n",
    "    \"û¢åêdemolition\":\"demolition\",\n",
    "    \"mentalhealthgov\":\"mental health government\",\n",
    "    \"realdonaldtrump\":\"real Donald Trump\",\n",
    "    \"bobbyofhomewood\":\"Bobby Homewood\",\n",
    "    \"littlebitofbass\":\"little bit of bass\",\n",
    "    \"freediscountbks\":\"free discount books\",\n",
    "    \"introdesolation\":\"intro desolation\",\n",
    "    \"shantaeforsmash\":\"Shantae for Smash\",\n",
    "    \"raidersreporter\":\"Raiders reporter\",\n",
    "    \"sapphirescallop\":\"sapphire scallop\",\n",
    "    \"engineermatarai\":\"engineer matarai\",\n",
    "    \"hiroshimaûóbbc\":\"Hiroshima BBC\",\n",
    "    \"selfdestruction\":\"self-destruction\",\n",
    "    \"windowgatribble\":\"window gatribble\",\n",
    "    \"blossominglilac\":\"blossming lilac\",\n",
    "    \"channelstvthats\":\"channel tv that\",\n",
    "    \"perrybellegarde\":\"Perry Bellegarde\",#canadian politician\n",
    "    \"hintdevastation\":\"hint devastation\",\n",
    "    \"lovelylikelaura\":\"lovely like Laura\",\n",
    "    \"gurmeetramrahim\":\"Gurmeet Ram Rahim\",#indian guru criminal\n",
    "    \"killeddisplaced\":\"killed displaced\",\n",
    "    \"dinosaurdracula\":\"dinosaur Dracula\",\n",
    "    \"anxietyproblems\":\"anxiety problems\",\n",
    "    \"breakingfalling\":\"breaking falling\",\n",
    "    \"historicalmages\":\"historical mages\",\n",
    "    \"legacyofthesith\":\"legacy of the Sith\",\n",
    "    \"magnitudeåêåêml\":\"magnitude\",\n",
    "    \"sustainourearth\":\"sustain our Earth\",\n",
    "    \"volcanodiscover\":\"volcano discover\",\n",
    "    \"difficultpeople\":\"difficult people\",\n",
    "    \"careemergencies\":\"car emergencies\",\n",
    "    \"akgovbillwalker\":\"Alaska governor Bill Walker\",#USA politician\n",
    "    \"emergencymgtmag\":\"emergency management magazine\",\n",
    "    \"ûïbasedgeorgie\":\"based Georgie\",\n",
    "    \"prophetmuhammad\":\"prophet Muhammad\",\n",
    "    \"pantalonesfuego\":\"fire trousers\",\n",
    "    \"crimsonfuckingv\":\"crimson fucking\",\n",
    "    \"greetingcardsû\":\"greeting cards\",\n",
    "    \"chrisdanielshow\":\"Chris Daniel show\",\n",
    "    \"fatalitiesxrays\":\"fatalities xrays\",\n",
    "    \"healthandsafety\":\"health and safety\",\n",
    "    \"canonusaimaging\":\"Canon Usa imaging\",\n",
    "    \"shakingcatching\":\"shaking catching\",\n",
    "    \"jaymcleanauthor\":\"Jay McLean author\",\n",
    "    \"bridgeportspeed\":\"Bridgeport speed\",\n",
    "    \"awickedassassin\":\"a wicked assassin\",\n",
    "    \"robertbenglunds\":\"Robert benglunds\",\n",
    "    \"homeimprovement\":\"home improvemente\",\n",
    "    \"hornybigbadwolf\":\"horny big bad wolf\",\n",
    "    \"hellonwheelsamc\":\"hell on wheels AMC\",\n",
    "    \"parentsacrossam\":\"Parents Across America\",\n",
    "    \"tastemycupcakee\":\"taste my cupcake\",\n",
    "    \"hazarddangerous\":\"hazard dangerous\",\n",
    "    \"hearitfrompatty\":\"hear it from Patty\",\n",
    "    \"creationsbykole\":\"creations by Kole\",\n",
    "    \"strawberrysoryu\":\"Strawberry Soryu\",#twitter cosplayer\n",
    "    \"aviationaddicts\":\"aviation addicts\",\n",
    "    \"lifethreatening\":\"life-threatening\",\n",
    "    \"likeavillasboas\":\"like Villas Boas\",#portugese footballer\n",
    "    \"imsushickoflove\":\"i am so sick of love\",\n",
    "    \"clearedincident\":\"cleared incident\",\n",
    "    \"allyinwondrland\":\"Alice in Wonderland\",\n",
    "    \"bangladeshflood\":\"Bangladesh flood\",\n",
    "    \"owenrbroadhurst\":\"Owen broad hurst\",\n",
    "    \"fredolsencruise\":\"Fred Olsen cruise\",\n",
    "    \"theatershooting\":\"theater shooting\",\n",
    "    \"scvsupremecourt\":\"SCV supreme court of Virginia\",\n",
    "    \"victoriagittins\":\"Victoria Gittins\",\n",
    "    \"moralityzionism\":\"morality Zionism\",\n",
    "    \"itsjustinstuart\":\"it is Justin Stuart\",\n",
    "    \"asburyparkpress\":\"Asbury park press\",#lugar en new jersey\n",
    "    \"intelligencebar\":\"intelligence bar\",\n",
    "    \"univsfoundation\":\"universal foundation\",\n",
    "    \"universityoflaw\":\"university of law\",\n",
    "    \"hazardsdisaster\":\"hazards disaster\",\n",
    "    \"irannucleardeal\":\"Iran nuclear deal\",\n",
    "    \"disasterrelated\":\"disaster related\",\n",
    "    \"crazydoctorlady\":\"crazy doctor lady\",\n",
    "    \"changepilipinas\":\"change Phillippines\",\n",
    "    \"losangelestimes\":\"Los Angeles times\",\n",
    "    \"soonpandemonium\":\"soon pandemonium\",\n",
    "    \"deadgirltalking\":\"dead girl talking\",\n",
    "    \"unfortunemelody\":\"unfortunate melody\",\n",
    "    \"goodlookrunning\":\"good luck running\",\n",
    "    \"autismawareness\":\"Autism awareness\",\n",
    "    \"troubleonmymind\":\"trouble on my mind\",\n",
    "    \"lopezandthelion\":\"Lopez and the lion\",\n",
    "    \"christianvalues\":\"Christian values\",\n",
    "    \"rezaphotography\":\"reza photography\",\n",
    "    \"peaceloverescue\":\"peace lovers cue\",\n",
    "    \"irishtimesworld\":\"Irish Times world\",\n",
    "    \"roddypiperautos\":\"Roddy Piper auto\",\n",
    "    \"sarahksilverman\":\"comedian Sarah Silverman\",\n",
    "    \"sorrybutitstrue\":\"sorry but it is true\",\n",
    "    \"villicanaalicia\":\"Villicana Alicia\",\n",
    "    \"oamsgajagahahah\":\"haha\",\n",
    "    \"estellasrevenge\":\"Estella revenge\",\n",
    "    \"trombonetristan\":\"trombone Tristan\",\n",
    "    \"seismicsoftware\":\"seismic software\",\n",
    "    \"supernovalester\":\"supernova Lester\",\n",
    "    \"sinkingshipindy\":\"Sinking Ship Indianapolis restaurant\",#restaurant en los estados unidos\n",
    "    \"healingreviving\":\"healing reviving\",\n",
    "    \"liveonstreamate\":\"live on Streamate\",\n",
    "    \"overturesplease\":\"overture please\",\n",
    "    \"breachgamingorg\":\"breach gaming organization\",\n",
    "    \"marketforceûªs\":\"market force\",\n",
    "    \"lifeaintfairkid\":\"life is not fair kid\",\n",
    "    \"eventspalmbeach\":\"events Palm Beach\",#florida usa\n",
    "    \"untameddirewolf\":\"untamed dire wolf\",\n",
    "    \"healthinsurance\":\"health insurance\",\n",
    "    \"thoutaylorbrown\":\"you Taylor Brown\",\n",
    "    \"angelheartnight\":\"angel heart night\",\n",
    "    \"patientreported\":\"patient reported\",\n",
    "    \"huyovoetripolye\":\"dick tripolye\",\n",
    "    \"lightningstrike\":\"lightning strike\",\n",
    "    \"tornadogiveaway\":\"tornado giveaway\",\n",
    "    \"sakhalintribune\":\"Sakhalin tribune\",\n",
    "    \"battleroyalemod\":\"battle royale mod\",\n",
    "    \"boyinahorsemask\":\"boy in a horse mask\",\n",
    "    \"lilithsaintcrow\":\"Lilith Saintcrow author\", \n",
    "    \"rosenthalauthor\":\"Rosenthal author\",\n",
    "    \"randallpinkston\":\"Randall Pinkston\",\n",
    "    \"dateswhitecoats\":\"dates white coats\",\n",
    "    \"niamhosullivanx\":\"Niahm Sullivan\",\n",
    "    \"malabamiandsons\":\"Malabami and sons\",\n",
    "    \"princeoffencing\":\"prince of fencing\",\n",
    "    \"carolinagutierr\":\"Carolina Gutierr\",\n",
    "    \"thejonesesvoice\":\"the joneses voice\",\n",
    "    \"chestertweetsuk\":\"chester tweets UK\",\n",
    "    \"nasasolarsystem\":\"NASA Solar System\",\n",
    "    \"rosemarytravale\":\"Rosemary Travale\",\n",
    "    \"salmanmydarling\":\"salaman my darling\",\n",
    "    \"chemicalweapons\":\"chemical weapons\",\n",
    "    \"lucymayofficial\":\"Lucy May official\",\n",
    "    \"alexhammerstone\":\"Alex Hammerstone\",\n",
    "    \"martsunmushroom\":\"Martsun mushroom\",\n",
    "    \"lancasteronline\":\"Lancaster online\",\n",
    "    \"easternoregonû\":\"Eastern Oregon\",\n",
    "    \"thebachelorette\":\"the bachelorette\",\n",
    "    \"windstormfollow\":\"windstorm follow\",\n",
    "    \"kindlecountdown\":\"Kindle countdown\",\n",
    "    \"jonathanferrell\":\"Jonthan Ferrell\",\n",
    "    \"kashmirconflict\":\"Kashmir conflict\",\n",
    "    \"icequeenfroslas\":\"ice queen pokémon\",\n",
    "    \"misscharleywebb\":\"miss Charley Webb\",\n",
    "    \"yahoonewsdigest\":\"Yahoo news digest\",\n",
    "    \"southridgelife\": \"south ridge life\",\n",
    "    \"nxwestmidlands\": \"National Express midlands UK\",\n",
    "    \"personalinjury\": \"personal injury\",\n",
    "    \"aftershockdelo\": \"aftershock delo\",\n",
    "    \"alexalltimelow\": \"alex all time low\",\n",
    "\"ûïairplaneû\":\"airplane\",\n",
    "\"marksmaponyane\" :\"marksmaponyane\",\n",
    "\"acarewornheart\": \"a careworn heart\",\n",
    "\"sciencefiction\": \"science fiction\",\n",
    "\"geekapocalypse\": \"geek apocalypse\",\n",
    "\"rohnertparkdps\": \"Rohnert Park department of public safety California\",\n",
    "\"fanarmyfaceoff\": \"fan army faceoff\",\n",
    "\"videoveranomtv\": \"video summer MTV\",\n",
    "\"historicchurch\" :\"historic church\",\n",
    "\"theadvocatemag\" : \"the advocate magazine\",\n",
    "\"cloudygoldrush\": \"cloudy gold rush\",\n",
    "\"bloorossington\":\"blood rossington\",\n",
    "\"northumberland\": \"Northumberland UK\",\n",
    "\"veronicadlcruz\": \"Veronica de la Cruz\",\n",
    "\"bestcomedyvine\": \"best comedy vine\",\n",
    "\"entretenimento\": \"entertainment\",\n",
    "\"rottentomatoes\": \"Rottentomatoes\",\n",
    "\"battlerapchris\": \"battle rap Chris\",\n",
    "\"alisonannyoung\": \"Alison Ann Young\",\n",
    "\"bioterrorismap\": \"bioterrorism\",\n",
    "\"bioterrorismim\": \"bioterrorism\",\n",
    "\"uabstephenlong\": \"uab Stephen Long\",\n",
    "\"officialtjonez\": \"official tjonez\",\n",
    "\"blazingelwoods\": \"Blazing Elwoods\",\n",
    "\"jaydennotjared\": \"Jayden not Jared\",\n",
    "\"radioriffrocks\": \"radio riff rocks\",\n",
    "\"chamberedblood\": \"chambered blood\",\n",
    "\"dangerousbeans\": \"dangerous beans\",\n",
    "\"rolandonabeats\": \"Roland on a beats\",\n",
    "\"looooooooooool\": \"laugh out loud\",\n",
    "\"lauradeholanda\": \"Laura from Holand\",\n",
    "\"wwwbigbaldhead\": \"www big bald head\",\n",
    "\"chxrmingprince\":\"charming prince\",\n",
    "\"hopefulbatgirl\": \"hopeful batgirl\",\n",
    "\"thebriankrause\": \"the Brian Krause\",\n",
    "\"anarchicteapot\": \"anarchic teapot\",\n",
    "\"deliciousvomit\": \"delicious vomit\",\n",
    "\"ûïmacdaddyleo\": \"mac daddy Leo\",\n",
    "\"slikrickdarula\": \"Slik Rick Darula\",\n",
    "\"summerinsweden\": \"Summer in Sweden\",\n",
    "\"smallforestelf\": \"small forest elf\",\n",
    "\"themalemadonna\": \"the male Madonna\",\n",
    "\"kurtschlichter\": \"Kurt Schlichter\", #abogado USA\n",
    "\"johnejefferson\": \"John Jefferson\",\n",
    "\"bloopandablast\": \"bloo panda blast\",\n",
    "\"strikesstrikes\": \"strikes strikes\",\n",
    "\"awesomeeeeeeee\": \"awesome\",\n",
    "\"mikecroninwmur\": \"Mike Cronin wmur\",\n",
    "\"croydonization\": \"croy donization\",\n",
    "\"bbcintroducing\": \"BBC introducing\",\n",
    "\"hermancranston\": \"Herman Cranston\",\n",
    "\"huffpostcomedy\": \"huff post comedy\",\n",
    "\"louistomlinson\": \"Louis Tom Linson\",\n",
    "\"buildingsûówe\": \"buildings\",\n",
    "\"flyopinemonkey\": \"flyopinemonkey\",\n",
    "\"countermoonbat\": \"counter moon bat\",\n",
    "\"washingtonpost\": \"Washington post\",\n",
    "\"seeyouatamicos\": \"see you at amicos\",\n",
    "\"northbayhealth\": \"North bay health\",\n",
    "\"willinghearted\": \"willing hearted\",\n",
    "\"weathernetwork\": \"weather network\",\n",
    "\"syringetoanger\": \"syringe to anger\",\n",
    "\"northwesternû\": \"northwestern\",\n",
    "\"deezercolombia\": \"Deezer Colombia\",\n",
    "\"northwesternû\": \"Northwestern\",\n",
    "\"dannyjohnjules\": \"Danny John Jules\",\n",
    "\"halloikbenwill\": \"good morning Netherlands\",\n",
    "\"ltbgtbakeltbgt\": \"ltbgt bake ltbgt\",\n",
    "\"flickershowell\": \"flicker showell\",\n",
    "\"entertainerû\": \"entertainer\",\n",
    "\"pageparkescorp\": \"page park escorp\",\n",
    "\"collideworship\": \"collide worship\",\n",
    "\"jessicastclair\": \"Jessica St Claire\",\n",
    "\"redcoatjackpot\": \"red coat jackpot\",\n",
    "\"harrybecareful\": \"Harry be careful\",\n",
    "\"sterlingknight\": \"Sterling knight\",\n",
    "\"destinythegame\": \"Destiny the game\",\n",
    "\"weloveyoulouis\": \"we love you Louis\",\n",
    "\"explicitpretty\": \"explicit pretty\",\n",
    "\"worstsummerjob\": \"worst Summerjob\",\n",
    "\"thecomedyquote\": \"the comedy quote\",\n",
    "\"aptlyengineerd\": \"aptly engineered\",\n",
    "\"capicapricapri\": \"capri capri capri\",\n",
    "\"writebothfists\": \"write both fists\",\n",
    "\"crosssectarian\": \"cross sectarian\",\n",
    "\"michaelwestbiz\": \"Michael West biz\",\n",
    "\"bluebirddenver\": \"blue bird Denver\",\n",
    "\"frackfreelancs\": \"frack freelancers\",\n",
    "\"tarletonsophie\": \"Tarleton Sophie\",\n",
    "\"gregorysanders\": \"gregory sanders\",\n",
    "\"nbcnightlynews\": \"NBC nightly news\",\n",
    "\"forrestmankins\": \"Forrest Mankins\",\n",
    "\"theburnageblue\": \"the burn age blue\",\n",
    "\"schelbertgeorg\": \"schelbert georg\",\n",
    "\"lisatoddsutton\": \"Lisa Todd Sutton\",\n",
    "\"patriotsnation\": \"patriots nation\",\n",
    "\"messnermatthew\": \"messner matthew\",\n",
    "\"soonersportstv\": \"sooner sports tv\",\n",
    "\"bapusuratsingh\": \"bapusurat singh\",\n",
    "\"alllivesmatter\": \"all lives matter\",\n",
    "\"colleenmnelson\": \"colleen  nelson\",\n",
    "\"teamfollowback\": \"team follow back\",\n",
    "\"chicagoscanner\": \"Chicago scanner\",\n",
    "\"naturalexample\": \"natural example\",\n",
    "\"corleonedaboss\": \"Corleone the boss\",\n",
    "\"justdepressing\": \"just depressing\",\n",
    "\"cameronciletti\": \"Cameron Ciletti\",\n",
    "\"sarniamakchris\": \"sarnia makchris\",\n",
    "\"givingevidence\": \"giving evidence\",\n",
    "\"harbhajansingh\": \"harbhajan singh\",\n",
    "\"danhrothschild\": \"danh roth child\",\n",
    "\"miscalculation\": \"miscalculation\",\n",
    "\"tomfromireland\": \"Tom from Ireland\",\n",
    "\"ûïdetonateû\": \"detonate\",\n",
    "\"waterresistant\": \"water resistant\",\n",
    "\"cllrraymogford\": \"cllr raymog ford\",\n",
    "\"hungerarticles\": \"hunger articles\",\n",
    "\"momneedscoffee\": \"mom needs coffee\",\n",
    "\"sanelesstheory\": \"sane less theory\",\n",
    "\"vannuyscouncil\": \"California council\",\n",
    "\"refugeesmatter\": \"refugees matter\",\n",
    "\"droughtmonitor\": \"drought monitor\",\n",
    "\"karinagarciaxo\": \"karina garciaxo\",\n",
    "\"newzsacramento\": \"news California\",\n",
    "\"sagacioussaber\": \"sagacious saber\",\n",
    "\"lordofbetrayal\": \"lord of betrayal\",\n",
    "\"earthquakenews\": \"earthquake news\",\n",
    "\"danisnotonfire\": \"dan is not on fire\",\n",
    "\"standforwolves\": \"stand for wolves\",\n",
    "\"sheltersupport\": \"shelter support\",\n",
    "\"tookitlikeaman\": \"took it like a man\",\n",
    "\"rebeccaforreal\": \"Rebecca for real\",\n",
    "\"chaselabsports\": \"chase lab sports\",\n",
    "\"postcapitalism\": \"post capitalism\",\n",
    "\"manchesterlite\": \"Manchester Lite\",\n",
    "\"leiaorganasolo\": \"Leia Organa Solo\",\n",
    "\"loadampexplode\": \"load explode\",\n",
    "\"attackonstiles\": \"attack on Stiles\",\n",
    "\"explosionproof\": \"explosion proof\",\n",
    "\"lordrsbiscuits\": \"lord biscuits\",\n",
    "\"alldaycumshots\": \"all day cumshots\",\n",
    "\"patrickjbutler\": \"patrick butler\",\n",
    "\"financialtimes\": \"financial times\",\n",
    "\"lifelettercafe\": \"life letter cafe\",\n",
    "\"windwakerstyle\": \"Windwaker style\",\n",
    "\"expressandstar\": \"express and star\",\n",
    "\"hiroshimasized\": \"Hiroshima sized\",\n",
    "\"kevinedwardsjr\": \"kevin edwards jr\",\n",
    "\"lpunbiggiewrap\": \"lpun biggie wrap\",\n",
    "\"highestranking\": \"highest ranking\",\n",
    "\"baileysmsteach\": \"bailey sms teach\",\n",
    "\"blackinamerica\": \"black in America\",\n",
    "\"growingupblack\": \"growing up black\",\n",
    "\"restoringpaths\": \"restoring paths\",\n",
    "\"misshomasttopa\": \"miss homas ttopa\",\n",
    "\"mineenjoybabes\": \"mineen joy babes\",\n",
    "\"erinmariefishy\": \"erin marie fishy\",\n",
    "\"thereisonlysex\": \"there is only sex\",\n",
    "\"adorableappple\": \"adorable apple\",\n",
    "\"proudgreenhome\": \"proud green home\",\n",
    "\"insubcontinent\": \"insub continent\",\n",
    "\"notificationsu\": \"notifications\",\n",
    "\"sonoranrattler\": \"sonoran rattler\",\n",
    "\"audaciousspunk\": \"audacious spunk\",\n",
    "\"spacewolverine\": \"space wolverine\",\n",
    "\"thatpersianguy\": \"that Persian guy\",\n",
    "\"ggkeeponrockin\": \"good game keep on rocking\",\n",
    "\"dreamoforgonon\": \"dream of orgonon\",\n",
    "\"bayelsaåêstate\": \"bayels estate\",\n",
    "\"zimpapersviews\": \"zim papers views\",\n",
    "\"allinwithchris\": \"all in with chris\",\n",
    "\"tlvfacesauspol\": \"tlv faces auspol\",\n",
    "\"gideonstrumpet\": \"gideon trumpet\",\n",
    "\"quottelevision\": \"quot television\",\n",
    "\"quotoperations\":\"quot operations\",\n",
    "\"overåêhostages\":\"over hostages\",\n",
    "\"minhazmerchant\":\"Minhaz Merchant\",\n",
    "\"hurricanedolce\": \"hurricane Dolce\",\n",
    "\"chubbysquirrel\": \"chubby squirrel\",\n",
    "\"hurricanesurge\": \"hurricane Surge\",\n",
    "\"nflexpertpicks\": \"NFL expert picks\",\n",
    "\"patriciatraina\": \"patricia traina\",\n",
    "\"tonymcguinness\": \"Tony McGuinness\",\n",
    "\"bcfcticketlady\": \"Birmingham City Football Club ticket lady\",\n",
    "\"hronlinetweets\": \"human resources online tweets\",\n",
    "\"avalanchesgtgt\": \"avalanches\",\n",
    "\"laylovetournay\": \"lay love tournay\",\n",
    "\"ryrotheunaware\": \"ryro the unaware\",\n",
    "\"riceechrispies\": \"rice krispies\",\n",
    "\"royalcarribean\": \"Royal caribbean\",\n",
    "\"yelllowheather\": \"yelllow heather\",\n",
    "\"carlachamorros\": \"carla chamorros\",\n",
    "\"telegraphworld\": \"telegraph world\",\n",
    "\"blairmcdougall\": \"blair mcdougall\",\n",
    "\"drjohanfranzen\": \"doctor johan franzen\",\n",
    "\"adultblackmale\": \"adult black male\",\n",
    "\"stfxuniversity\": \"stfx university\",\n",
    "\"hillaryclinton\": \"hillary clinton\",\n",
    "\"cochisecollege\": \"cochise college\",\n",
    "\"militarydotcom\": \"military .com\",\n",
    "\"britishbakeoff\": \"British bake off\",\n",
    "\"bakeofffriends\": \"bakeoff friends\",\n",
    "\"fukushimatepco\": \"Fukushima tepco\",\n",
    "\"mooniighthunty\": \"moonlight hunty\",\n",
    "\"breakingnewslh\": \"breakingnews\",\n",
    "\"michelebachman\": \"michele bachman\",\n",
    "\"interestingwhy\": \"interesting why\",\n",
    "\"laurenjauregui\": \"lauren jauregui\",\n",
    "\"thatsabinegirl\": \"that sabine girl\",\n",
    "\"atgrannyshouse\": \"at granny house\",\n",
    "\"thisishavehope\": \"this is have hope\",\n",
    "\"trafficnetwork\": \"traffic network\",\n",
    "\"cityofkamloops\": \"city of Kamloops Canada\",\n",
    "\"americanlegion\": \"American legion\",\n",
    "\"hashtagteaclub\": \"hash tag tea club\",\n",
    "\"pandemoniumiso\": \"pandemoniumiso\",\n",
    "\"û÷facelessûª\": \"faceless\",\n",
    "\"girlsgirlsboys\": \"girls girls boys\",\n",
    "\"nutsandboltssp\": \"nuts and bolts\",\n",
    "\"georgegalloway\": \"george galloway\",\n",
    "\"brandonmulcahy\": \"brandon mulcahy\",\n",
    "\"robbiewilliams\": \"robbie williams\",\n",
    "\"northwestproof\": \"Northwest proof\",\n",
    "\"myrtlegroggins\": \"myrtlegroggins\",\n",
    "\"robotrainstorm\": \"robot rainstorm\",\n",
    "\"floodrainstorm\": \"flood rainstorm\",\n",
    "\"freedomoutpost\": \"freedom outpost\",\n",
    "\"kelbytomlinson\": \"kelby tom linson\",\n",
    "\"rainforestresq\": \"rainforest rescue\",\n",
    "\"lisavanderpump\": \"lisa vanderpump\",\n",
    "\"onegreenplanet\": \"one green planet\",\n",
    "\"urbanfashionû\": \"urban fashion\",\n",
    "\"abrancaballero\": \"abran caballero\",\n",
    "\"globiinclusion\": \"globi inclusion\",\n",
    "\"lawsonofficial\": \"laws on official\",\n",
    "\"moorlandschmbr\": \"Staffordshire Chamber UK\",\n",
    "\"stonebrewingco\": \"stone brewing company California\",\n",
    "\"horrormoviesca\": \"horror movies california\",\n",
    "\"heavydirtysoul\": \"heavy dirty soul\",\n",
    "\"sidelinesavage\": \"sideline savage\",\n",
    "\"mypillowstudio\": \"my pillow studio\",\n",
    "\"foxnewsinsider\": \"fox news insider\",\n",
    "\"suicidebombing\": \"suicide bombing\",\n",
    "\"resolutevanity\": \"resolute vanity\",\n",
    "\"pullûoneûyou\": \"pull one you\",\n",
    "\"resoluteshield\": \"resolute shield\",\n",
    "\"driverlesscars\": \"driverless cars\",\n",
    "\"chronicillness\": \"chronic illness\",\n",
    "\"starbuckscully\": \"Starbucks cully\",\n",
    "\"nuclearweapons\": \"nuclear weapons\",\n",
    "\"lawfulsurvivor\": \"lawful survivor\",\n",
    "\"ldnrterrorists\": \"terrorists\",\n",
    "\"swiftycommissh\": \"swifty commissh\",\n",
    "\"kristyleemusic\": \"kristy lee music\",\n",
    "\"lightumupbeast\": \"light up beast\",\n",
    "\"soothmyslumber\": \"sooth my slumber\",\n",
    "\"brrookkllyynnr\": \"Brooklyn New York\",\n",
    "\"itssselenaluna\": \"it is selena luna\",\n",
    "\"sadtraumatised\": \"sad traumatised\",\n",
    "\"snapchatselfie\": \"Snapchat selfie\",\n",
    "\"wildwestsixgun\": \"wild west six gun\",\n",
    "\"charleyisqueen\": \"charley is queen\",\n",
    "\"freefromwolves\": \"free from wolves\",\n",
    "\"tsunaminopeach\": \"Smash Bros videogame player Princess Peach\",\n",
    "\"ellenfromnowon\": \"ellen from now on\",\n",
    "\"volcanotornado\": \"volcano tornado\",\n",
    "\"dwarfonjetpack\": \"dwarf on jet pack\",\n",
    "\"thatrussianman\": \"that Russian man\",\n",
    "\"powerhiroshima\": \"power Hiroshima\",\n",
    "\"throwingknifes\": \"throwing knifes\",\n",
    "\"animaladvocate\": \"animal advocate\",\n",
    "\"fingerrockfire\": \"finger rock fire\",\n",
    "\"rangerkaitimay\": \"ranger kaiti may\",\n",
    "\"nomorehandouts\": \"no more handouts\",\n",
    "\"officerrelated\": \"officer related\",\n",
    "\"charlesdagnall\": \"charles dagnall\",\n",
    "\"projectilesûò\": \"projectiles\",\n",
    "\"captainnmorgan\": \"captainn morgan\",\n",
    "\"oliviaapalmerr\": \"olivia palmerr\",\n",
    "\"residualincome\": \"residual income\",\n",
    "\"ûïairplaneû\": \"airplane\",\n",
    "\"ûïmacdaddyleo\": \"macdaddyleo\",\n",
    "\"buildingsûówe\": \"buildings we\",\n",
    "\"northwesternû\": \"Northwestern\",\n",
    "\"dannyjohnjules\": \"danny john jules\",\n",
    "\"entertainerû\": \"entertainer\",\n",
    "\"ûïdetonateû\":\"detonate\",\n",
    "\"bayelsaåêstate\":\"bayelsa estate\",\n",
    "\"overåêhostages\":\"over hostages\",\n",
    "\"û÷facelessûª\":\"faceless\",\n",
    "\"urbanfashionû\":\"urbanfashion\",\n",
    "\"pullûoneûyou\":\"pull one you\",\n",
    "\"growinupblac\":\"growing up black\",\n",
    "\"projectilesûò\":\"projectiles\",\n",
    "\"ûïairplaneû\":\"airplane\",\n",
    "\"cloudygoldrush\":\"cloudy gold rush\",\n",
    "\"buildingsûówe\":\"buildings we\",\n",
    "\"northwesternû\":\"northwestern\",\n",
    "\"dannyjohnjules\":\"danny john jules\",\n",
    "\"entertainerû\":\"entertainer\",\n",
    "\"ûïdetonateû\":\"detonate\",\n",
    "\"bayelsaåêstate\":\"bayel state\",\n",
    "\"overåêhostages\":\"over hostages\",\n",
    "\"becarefulharry\": \"be careful harry\",\n",
    "\"û÷facelessûª\":\"faceless\",\n",
    "\"urbanfashionû\":\"urban fashion\",\n",
    "\"pullûoneûyou\":\"pull one you\",\n",
    "\"projectilesûò\":\"projectiles\",\n",
    "}"
   ]
  },
  {
   "cell_type": "code",
   "execution_count": 16,
   "metadata": {},
   "outputs": [],
   "source": [
    "def separar_palabras_concatenadas(texto):\n",
    "    texto=texto.lower()\n",
    "    lista_palabras=texto.split()\n",
    "    palabras_procesadas=[]\n",
    "    for palabra in lista_palabras:\n",
    "        palabra_separada=diccionario_separador.get(palabra,\"no separable\")\n",
    "        if(palabra_separada!=\"no separable\"):\n",
    "            lista_aux=palabra_separada.split()\n",
    "            for x in lista_aux:\n",
    "                palabras_procesadas.append(x)\n",
    "        else:\n",
    "            palabras_procesadas.append(palabra)\n",
    "    texto=\" \".join([word for word in palabras_procesadas])\n",
    "    return texto"
   ]
  },
  {
   "cell_type": "code",
   "execution_count": 17,
   "metadata": {},
   "outputs": [],
   "source": [
    "diccionario_generico={}\n",
    "def imprimir_palabras(texto):\n",
    "    longitud_buscada=14\n",
    "    palabras=texto.split()\n",
    "    diccionario={}\n",
    "    for palabra in palabras:\n",
    "        len_palabra=len(palabra)\n",
    "        aparecio=diccionario.get(str(palabra),\"no\")\n",
    "        if(aparecio==\"no\"):\n",
    "            if(len_palabra==longitud_buscada):\n",
    "                diccionario[str(palabra)]=\"si\" \n",
    "                print(str(palabra))"
   ]
  },
  {
   "cell_type": "code",
   "execution_count": 37,
   "metadata": {},
   "outputs": [],
   "source": [
    "def eliminar_palabras_de_una_sola_letra(texto):\n",
    "    texto=texto.lower()\n",
    "    lista_palabras=texto.split()\n",
    "    palabras_procesadas=[]\n",
    "    for palabra in lista_palabras:\n",
    "        if(len(palabra)!=1):\n",
    "            palabras_procesadas.append(palabra)\n",
    "    texto=\" \".join([word for word in palabras_procesadas])\n",
    "    return texto"
   ]
  },
  {
   "cell_type": "code",
   "execution_count": 18,
   "metadata": {},
   "outputs": [],
   "source": [
    "#es necesario importar la libreria re (regular expression) para poder usar esta funcion\n",
    "#ya esta bajada en el comienzo del notebook pero si lo que quieren es analizar la documentación\n",
    "#lo pueden revisar en google\n",
    "#falta borrar los arroba\n",
    "def limpiar_texto(texto):\n",
    "    texto = reemplazar_lenguaje_internet(texto)\n",
    "    texto=reemplazar_contracciones(texto)\n",
    "    texto=texto.lower()\n",
    "    texto = re.sub('\\[.*?\\]', '', texto) # remove text in square brackets\n",
    "    texto = re.sub('https?://\\S+|www\\.\\S+', '', texto) # remove URLs\n",
    "    texto = re.sub('<.*?>+', '', texto) # remove html tags\n",
    "    texto = re.sub('[%s]' % re.escape(string.punctuation), '', texto) # remove punctuation\n",
    "    texto = re.sub('\\n', '', texto) # remove words conatinaing numbers\n",
    "    texto = re.sub('\\w*\\d\\w*', '', texto)\n",
    "    texto = re.sub('[‘’“”…]', '', texto)\n",
    "    texto = quitar_stopwords(texto)\n",
    "    texto = quitar_menciones(texto)\n",
    "    texto = separar_palabras_concatenadas(texto)\n",
    "    texto=quitar_stopwords(texto)\n",
    "    return texto"
   ]
  },
  {
   "cell_type": "code",
   "execution_count": 19,
   "metadata": {},
   "outputs": [],
   "source": [
    "from nltk import WordNetLemmatizer"
   ]
  },
  {
   "cell_type": "code",
   "execution_count": 20,
   "metadata": {},
   "outputs": [],
   "source": [
    "lemmatizer=WordNetLemmatizer()"
   ]
  },
  {
   "cell_type": "code",
   "execution_count": 21,
   "metadata": {},
   "outputs": [],
   "source": [
    "def lemmatizar_texto(texto):\n",
    "    lista_palabras=nltk.word_tokenize(texto)\n",
    "    texto=' '.join([lemmatizer.lemmatize(word) for word in lista_palabras])\n",
    "    return texto\n",
    "#nota: la función esta definida aca, pero para ver los resultados que produce hay\n",
    "#que ir al comienzo del notebook y ejecutar la celda de lemmatizar texto luego\n",
    "#de haber limpiado el texto original"
   ]
  },
  {
   "cell_type": "code",
   "execution_count": 22,
   "metadata": {},
   "outputs": [],
   "source": [
    "from nltk.corpus import wordnet\n",
    "\n",
    "def get_wordnet_pos(palabra):\n",
    "    \"\"\"Map POS tag to first character lemmatize() accepts\"\"\"\n",
    "    tag = nltk.pos_tag([palabra])[0][1][0].upper()\n",
    "    tag_dict = {\"J\": wordnet.ADJ,\n",
    "                \"N\": wordnet.NOUN,\n",
    "                \"V\": wordnet.VERB,\n",
    "                \"R\": wordnet.ADV}\n",
    "\n",
    "    return tag_dict.get(tag, wordnet.NOUN)\n",
    "\n"
   ]
  },
  {
   "cell_type": "code",
   "execution_count": 24,
   "metadata": {},
   "outputs": [],
   "source": [
    "def lemmatizar_con_pos(texto):\n",
    "    lista_palabras=texto.split()\n",
    "    texto=' '.join(lemmatizer.lemmatize(palabra,get_wordnet_pos(palabra)) for palabra in lista_palabras)\n",
    "    return texto\n",
    "\n"
   ]
  },
  {
   "cell_type": "code",
   "execution_count": 25,
   "metadata": {},
   "outputs": [],
   "source": [
    "#si nos basamos en el análisis hecho en el tp1, cuando sacamos la catnidad de tweets por el tag de localizacion\n",
    "#sabemos que van a haber en los textos muchos lugares asociados a ubicaciones (ejemplo: Londres), palabras\n",
    "#que se pierden en el momento en que yo paso todo a minuscula, london no es lo mismo que London para un \n",
    "#embedding ya entrenado,igual que usa no es lo mismo que USA. Entonces lo que voy a hacer es, en base a \n",
    "#las ubicaciones que más tweets tienen segun el tp1, voy a generar diccionarios de ubicaciones asociadas a \n",
    "#esos lugares, para despues transformar el texto\n",
    "\n",
    "estados_de_USA={\n",
    "    'usa':\"USA\",\n",
    "    \"alabama\":\"Alabama\",\n",
    "    \"arizona\":\"Arizona\",\n",
    "    \"arkansas\":\"Arkansas\",\n",
    "    \"california\":\"California\",\n",
    "    \"colorado\":\"Colorado\",\n",
    "    \"connecticut\":\"Connecticut\",\n",
    "    \"delaware\":\"Delaware\",\n",
    "    \"florida\":\"Florida\",\n",
    "    \"georgia\":\"Georgia\",\n",
    "    \"hawaii\":\"Hawaii\",\n",
    "    \"idaho\":\"Idaho\",\n",
    "    \"illinois\":\"Illinois\",\n",
    "    \"indiana\":\"Indiana\",\n",
    "    \"iowa\":\"Iowa\",\n",
    "    \"kansas\":\"Kansas\",\n",
    "    \"kentucky\":\"Kentucky\",\n",
    "    \"louisiana\":\"Louisiana\",\n",
    "    \"maine\":\"Maine\",\n",
    "    \"maryland\":\"Maryland\",\n",
    "    \"massachusetts\":\"Massachusetts\",\n",
    "    \"michigan\":\"michigan\",\n",
    "    \"minessota\":\"Minessota\",\n",
    "    \"mississippi\":\"Mississippi\",\n",
    "    \"missouri\":\"Missouri\",\n",
    "    \"new hampshire\":\"New Hampshire\",\n",
    "    \"new jersey\":\"New Jersey\",\n",
    "    \"new mexico\":\"New Mexico\",\n",
    "    \"north carolina\":\"North Carolina\",\n",
    "    \"ohio\":\"Ohio\",\n",
    "    \"oklahoma\":\"Oklahoma\",\n",
    "    \"oregon\":\"Oregon\",\n",
    "    \"pennsylvania\":\"Pennsylvania\",\n",
    "    \"rhode island\":\"Rhode Island\",\n",
    "    \"south carolina\":\"South Carolina\",\n",
    "    \"south dakota\":\"South Dakota\",\n",
    "    \"tennessee\":\"Tennessee\",\n",
    "    \"texas\":\"Texas\",\n",
    "    \"utah\":\"Utah\",\n",
    "    \"vermont\":\"Vermont\",\n",
    "    \"virginia\":\"Virginia\",\n",
    "    \"washington\":\"Washington\",\n",
    "    \"west virginia\":\"West Virginia\",\n",
    "    \"wisconsin\":\"Wisconsin\",\n",
    "    \"wyoming\":\"Wyoming\"\n",
    "}"
   ]
  },
  {
   "cell_type": "code",
   "execution_count": 26,
   "metadata": {},
   "outputs": [],
   "source": [
    "ubicaciones_asociadas_a_nueva_york={\n",
    "    \"ny\":\"New York\",\n",
    "    \"NY\":\"New York\",\n",
    "    \"manhattan\":\"Manhattan\",\n",
    "    \"brooklyn\":\"Brookyn\",\n",
    "    \"staten island\":\"Staten Island\",\n",
    "    \"queens\":\"Queens\",\n",
    "    \"philadelphia\":\"Philadelphia\",\n",
    "    \"hudson\":\"Hudson\",\n",
    "    \"wall street\":\"Wall Street\",\n",
    "    \"wtc\":\"World Trade Center\",\n",
    "    \"columbia\":\"Columbia\",\n",
    "    \"bronx\":\"Bronx\"\n",
    "}"
   ]
  },
  {
   "cell_type": "code",
   "execution_count": 27,
   "metadata": {},
   "outputs": [],
   "source": [
    "palabras_asociadas_a_londres={\n",
    "    \"london\":\"London\",\n",
    "    \"uk\":\"UK\",\n",
    "    \"birmingham\":\"Birmingham\",\n",
    "    \"westminister\":\"Westminister\",\n",
    "    \"thames\":\"Thames\",\n",
    "    \"brighton\":\"Brighton\",\n",
    "    \"manchester\":\"Manchester\",\n",
    "    \"westminster\":\"Westminster\",\n",
    "    \"cambridge\":\"Cambridge\",\n",
    "    \"winchester\":\"Winchester\",\n",
    "    \"trafalgar\":\"Trafalgar\",\n",
    "    \"british\":\"British\"\n",
    "}"
   ]
  },
  {
   "cell_type": "code",
   "execution_count": 28,
   "metadata": {},
   "outputs": [],
   "source": [
    "ubicaciones_asociadas_a_canada={\n",
    "    \"canada\":\"Canada\",\n",
    "    \"toronto\":\"Toronto\",\n",
    "    \"ontario\":\"Ontario\",\n",
    "    \"vancouver\":\"Vancouver\",\n",
    "    \"columbia\":\"Columbia\",\n",
    "    \"montreal\":\"Montreal\",\n",
    "    \"quebec\":\"Quebec\",\n",
    "    \"niagara\":\"Niagara\",\n",
    "    \"victoria\":\"Victoria\",\n",
    "    \"halifax\":\"Halifax\",\n",
    "    \"ottawa\":\"Ottawa\",\n",
    "    \"canadian\":\"Canadian\" #esta no es ubicacion pero hay que cambiarla en el texto\n",
    "}"
   ]
  },
  {
   "cell_type": "code",
   "execution_count": 29,
   "metadata": {},
   "outputs": [],
   "source": [
    "#faltan muchas localizaciones en el dataset,voy a generar un\n",
    "#diccionario de paises, para despues poder extraer de los tweets una localizacion\n",
    "#usa no aparece porque otro diccionario ya se encarga del reemplazo\n",
    "#hago esto en caso de que alguno escribe mal el pais(digo sin mayuscula incial\n",
    "#que es vital para detectar paises usando POS)\n",
    "diccionario_paises_del_mundo={\n",
    "    \"china\":\"China\",\n",
    "    \"india\":\"India\",\n",
    "    \"indonesia\":\"Indonesia\",\n",
    "    \"pakistan\":\"Pakistan\",\n",
    "    \"brazil\":\"Brazil\",\n",
    "    \"nigeria\":\"Nigeria\",\n",
    "    \"bangladesh\":\"Bangladesh\",\n",
    "    \"russia\":\"Russia\",\n",
    "    \"mexico\":\"Mexico\",\n",
    "    \"japan\":\"Japan\",\n",
    "    \"ethiopia\":\"Ethiopia\",\n",
    "    \"philippines\":\"Philippines\",\n",
    "    \"egypt\":\"Egypt\",\n",
    "    \"vietnam\":\"Vietnam\",\n",
    "    \"congo\":\"Congo\",\n",
    "    \"turkey\":\"Turkey\",\n",
    "    \"iran\":\"Iran\",\n",
    "    \"germany\":\"Germany\",\n",
    "    \"thailand\":\"Thailand\",\n",
    "    \"france\":\"France\",\n",
    "    \"italy\":\"Italy\",\n",
    "    \"tanzania\":\"Tanzania\",\n",
    "    \"south africa\":\"South Africa\",\n",
    "    \"colombia\":\"Colombia\",\n",
    "    \"spain\":\"Spain\",\n",
    "    \"uganda\":\"Uganda\",\n",
    "    \"argentina\":\"Argentina\",\n",
    "    \"algeria\":\"Algeria\",\n",
    "    \"sudan\":\"Sudan\",\n",
    "    \"ukraine\":\"Ukraine\",\n",
    "    \"iraq\":\"Iraq\",\n",
    "    \"afghanistan\":\"Afghanistan\",\n",
    "    \"poland\":\"Poland\",\n",
    "    \"canada\":\"Canada\",\n",
    "    \"morocco\":\"Morocco\",\n",
    "    \"saudi arabia\":\"Saudi Arabia\",\n",
    "    \"uzbekistan\":\"Uzbekistan\",\n",
    "    \"peru\":\"Peru\",\n",
    "    \"angola\":\"Angola\",\n",
    "    \"malaysia\":\"Malaysia\",\n",
    "    \"mozambique\":\"Mozambique\",\n",
    "    \"ghana\":\"Ghana\",\n",
    "    \"yemen\":\"Yemen\",\n",
    "    \"nepal\":\"Nepal\",\n",
    "    \"venezuela\":\"Venezuela\",\n",
    "    \"madagascar\":\"Madagascar\",\n",
    "    \"cameroon\":\"Cameroon\",\n",
    "    \"north korea\":\"North Korea\",\n",
    "    \"australia\":\"Australia\",\n",
    "    \"niger\":\"Niger\",\n",
    "    \"sri lanka\":\"Sri Lanka\",\n",
    "    \"mali\":\"Mali\",\n",
    "    \"romania\":\"Romania\",\n",
    "    \"malawi\":\"Malawi\",\n",
    "    \"chile\":\"Chile\",\n",
    "    \"kazakhastan\":\"Kazakhastan\",\n",
    "    \"zambia\":\"Zambia\",\n",
    "    \"guatemala\":\"Guatemala\",\n",
    "    \"ecuador\":\"Ecuador\",\n",
    "    \"syria\":\"Syria\",\n",
    "    \"netherlands\":\"Netherlands\",\n",
    "    \"senegal\":\"Senegal\",\n",
    "    \"cambodia\":\"Cambodia\",\n",
    "    \"chad\":\"Chad\",\n",
    "    \"somalia\":\"Somalia\",\n",
    "    \"zimbawe\":\"Zimbawe\",\n",
    "    \"guinea\":\"Guinea\",\n",
    "    \"rwanda\":\"Rwanda\",\n",
    "    \"benin\":\"Benin\",\n",
    "    \"burundi\":\"Burundi\",\n",
    "    \"tunisia\":\"Tunisia\",\n",
    "    \"bolivia\":\"Bolivia\",\n",
    "    \"belgium\":\"Belgium\",\n",
    "    \"haiti\":\"Haiti\",\n",
    "    \"cuba\":\"Cuba\",\n",
    "    \"south sudan\":\"South sudan\",\n",
    "    \"dominican republic\":\"Dominican Republic\",\n",
    "    \"czech republic\":\"Czech Republic\",\n",
    "    \"greece\":\"Greece\",\n",
    "    \"jordan\":\"Jordan\",\n",
    "    \"portugal\":\"Portugal\",\n",
    "    \"azerbaijan\":\"Azerbaijan\",\n",
    "    \"sweden\":\"Sweden\",\n",
    "    \"honduras\":\"Honduras\",\n",
    "    \"tajikistan\":\"Taijistan\",\n",
    "    \"belarus\":\"Belarus\",\n",
    "    \"austria\":\"Austria\",\n",
    "    \"papua\":\"Papua\",\n",
    "    \"guinea\":\"Guinea\",\n",
    "    \"serbia\":\"Serbia\",\n",
    "    \"israel\":\"Israel\",\n",
    "    \"switzerland\":\"Switzerland\",\n",
    "    \"togo\":\"Togo\",\n",
    "    \"sierra leone\":\"Sierra Leone\",\n",
    "    \"laos\":\"Laos\",\n",
    "    \"paraguay\":\"Paraguay\",\n",
    "    \"bulgaria\":\"Bulgaria\",\n",
    "    \"libya\":\"Libya\",\n",
    "    \"lebanon\":\"Lebanon\",\n",
    "    \"nicaragua\":\"Nicaragua\",\n",
    "    \"kyrgyzstan\":\"Kyrgy\",\n",
    "    \"el Salvador\":\"el salvador\",\n",
    "    \"turkmenistan\":\"Turkmenistan\",\n",
    "    \"singapore\":\"Singapore\",\n",
    "    \"denmark\":\"Denmark\",\n",
    "    \"finland\":\"Finland\",\n",
    "    \"congo\":\"Congo\",\n",
    "    \"slovakia\":\"Slovakia\",\n",
    "    \"norway\":\"Norway\",\n",
    "    \"oman\":\"Oman\",\n",
    "    \"palestine\":\"Palestine\",\n",
    "    \"costa rica\":\"Costa Rica\",\n",
    "    \"central african republic\":\"Central African Republic\",\n",
    "    \"new zeland\":\"New Zeland\",\n",
    "    \"mauritania\":\"Mauritania\",\n",
    "    \"panama\":\"Panama\",\n",
    "    \"kuwait\":\"Kuwait\",\n",
    "    \"croatia\":\"Croatia\",\n",
    "    \"moldova\":\"Moldova\",\n",
    "    \"georgia\":\"Georgia\",\n",
    "    \"eritrea\":\"Eritrea\",\n",
    "    \"uruguay\":\"Uruguay\",\n",
    "    \"bosnia\":\"Bosnia\",\n",
    "    \"herzegovina\":\"Herzegovina\",\n",
    "    \"mongolia\":\"Mongolia\",\n",
    "    \"armenia\":\"Armenia\",\n",
    "    \"jamaica\":\"Jamaica\",\n",
    "    \"qatar\":\"Qatar\",\n",
    "    \"albania\":\"Albania\",\n",
    "    \"lithuania\":\"Lithuania\",\n",
    "    \"namibia\":\"Namibia\",\n",
    "    \"gambia\":\"Gambia\",\n",
    "    \"botswana\":\"Botswana\",\n",
    "    \"gabon\":\"Gabon\",\n",
    "    \"lesotho\":\"Lesotho\",\n",
    "    \"macedonia\":\"Macedonia\",\n",
    "    \"guinea-bissau\":\"Guinea-Bissau\",\n",
    "    \"latvia\":\"Latvia\",\n",
    "    \"bahrain\":\"Bahrain\",\n",
    "    \"equatorial guinea\":\"Equatorial Guinea\",\n",
    "    \"timor\":\"Timor-Leste\",\n",
    "    \"leste\":\"Timor-Leste\",\n",
    "    \"mauritius\":\"Mauritius\",\n",
    "    \"cyprus\":\"Cyprus\",\n",
    "    \"eswantini\":\"Eswantini\",\n",
    "    \"dijibouti\":\"Dijibouti\",\n",
    "    \"fiji\":\"Fiji\",\n",
    "    \"comoros\":\"Comoros\",\n",
    "    \"guyana\":\"Guyana\",\n",
    "    \"bhutan\":\"Bhutan\",\n",
    "    \"solomon islands\":\"Solomon Islands\",\n",
    "    \"montenegro\":\"Montenegro\",\n",
    "    \"luxembourgh\":\"Luxembourgh\",\n",
    "    \"suriname\":\"Suriname\",\n",
    "    \"cabo verde\":\"Cabo Verde\",\n",
    "    \"maldives\":\"Maldives\",\n",
    "    \"malta\":\"Malta\",\n",
    "    \"brunei\":\"Brunei\",\n",
    "    \"belize\":\"Belize\",\n",
    "    \"bahamas\":\"Bahamas\",\n",
    "    \"iceland\":\"Iceland\",\n",
    "    \"vanuatu\":\"Vanuatu\",\n",
    "    \"varbados\":\"Barbados\",\n",
    "    \"sao tome & principe\":\"Sao Tome & Principe\",\n",
    "    \"samoa\":\"Samoa\",\n",
    "    \"saint lucia\":\"Saint Lucia\",\n",
    "    \"kiribati\":\"Kiribati\",\n",
    "    \"micronesia\":\"Micronesia\",\n",
    "    \"grenada\":\"Grenada\",\n",
    "    \"st vincent & grenadines\":\"Grenadines\",\n",
    "    \"grenadines\":\"Grenadines\",\n",
    "    \"tonga\":\"Tonga\",\n",
    "    \"seychelles\":\"Seychelles\",\n",
    "    \"antigua\":\"Antigua and Barbuda\",\n",
    "    \"barbuda\":\"Antigua and Barbuda\",\n",
    "    \"andorra\":\"Andorra\",\n",
    "    \"dominica\":\"Dominica\",\n",
    "    \"marshall islands\":\"Marshall Islands\",\n",
    "    \"saint kitts & nevis\":\"Saint Kitss & Nevis\",\n",
    "    \"monaco\":\"Monaco\",\n",
    "    \"liechtenstein\":\"Liechtenstein\",\n",
    "    \"san marino\":\"San Marino\",\n",
    "    \"palau\":\"Palau\",\n",
    "    \"tuvalu\":\"Tuvalu\",\n",
    "    \"nauru\":\"Nauru\",\n",
    "    \"holy see\":\"Holy See\", #aca no vive nadie,801 personas, pero bue se lo considera pais\n",
    "    \n",
    "\n",
    "    \"united states\":\"USA\",\n",
    "    \"usa\":\"USA\",\n",
    "    \"america\":\"USA\",\n",
    "    \"united kingdom\":\"UK\",\n",
    "    \"uk\":\"UK\",\n",
    "    \n",
    "}"
   ]
  },
  {
   "cell_type": "code",
   "execution_count": null,
   "metadata": {},
   "outputs": [],
   "source": [
    "#dadas las diferentes menciones de los estados unidos que existen, voy a generar\n",
    "#una función que se encargue exclusivamente de ello\n",
    "#pre:el texto no tuvo que haber pasado por ningun tipo de \n",
    "def reemplazar_estados_unidos(texto):\n",
    "    "
   ]
  },
  {
   "cell_type": "code",
   "execution_count": 30,
   "metadata": {},
   "outputs": [],
   "source": [
    "long_en_caracteres={}\n",
    "def palabras_por_longitud(texto):\n",
    "    lista_palabras=texto.split()\n",
    "    for palabra in lista_palabras:\n",
    "        cant_caracteres=len(palabra)\n",
    "        contador=long_en_caracteres.get(len(palabra),-1)\n",
    "        if(contador==-1):\n",
    "            long_en_caracteres[cant_caracteres]=1\n",
    "        else:\n",
    "            contador+=1\n",
    "            long_en_caracteres[cant_caracteres]=contador\n"
   ]
  },
  {
   "cell_type": "code",
   "execution_count": 54,
   "metadata": {},
   "outputs": [
    {
     "data": {
      "text/plain": [
       "0       None\n",
       "1       None\n",
       "2       None\n",
       "3       None\n",
       "4       None\n",
       "        ... \n",
       "7608    None\n",
       "7609    None\n",
       "7610    None\n",
       "7611    None\n",
       "7612    None\n",
       "Name: text, Length: 7613, dtype: object"
      ]
     },
     "execution_count": 54,
     "metadata": {},
     "output_type": "execute_result"
    }
   ],
   "source": [
    "train_set['text'].apply(palabras_por_longitud)"
   ]
  },
  {
   "cell_type": "code",
   "execution_count": 55,
   "metadata": {},
   "outputs": [
    {
     "name": "stdout",
     "output_type": "stream",
     "text": [
      "[1, 2, 3, 4, 5, 6, 7, 8, 9, 10, 11, 12, 13, 14, 15, 16, 17, 18, 19, 20, 21, 22, 23, 24, 25, 26, 27, 29, 30, 36, 49]\n",
      "Numero de letras: 1   numero de palabras: 206\n",
      "Numero de letras: 2   numero de palabras: 2384\n",
      "Numero de letras: 3   numero de palabras: 6225\n",
      "Numero de letras: 4   numero de palabras: 11896\n",
      "Numero de letras: 5   numero de palabras: 12012\n",
      "Numero de letras: 6   numero de palabras: 9618\n",
      "Numero de letras: 7   numero de palabras: 8732\n",
      "Numero de letras: 8   numero de palabras: 6761\n",
      "Numero de letras: 9   numero de palabras: 4437\n",
      "Numero de letras: 10   numero de palabras: 2607\n",
      "Numero de letras: 11   numero de palabras: 1503\n",
      "Numero de letras: 12   numero de palabras: 1075\n",
      "Numero de letras: 13   numero de palabras: 672\n",
      "Numero de letras: 14   numero de palabras: 370\n",
      "Numero de letras: 15   numero de palabras: 259\n",
      "Numero de letras: 16   numero de palabras: 82\n",
      "Numero de letras: 17   numero de palabras: 79\n",
      "Numero de letras: 18   numero de palabras: 35\n",
      "Numero de letras: 19   numero de palabras: 37\n",
      "Numero de letras: 20   numero de palabras: 13\n",
      "Numero de letras: 21   numero de palabras: 14\n",
      "Numero de letras: 22   numero de palabras: 11\n",
      "Numero de letras: 23   numero de palabras: 3\n",
      "Numero de letras: 24   numero de palabras: 3\n",
      "Numero de letras: 25   numero de palabras: 5\n",
      "Numero de letras: 26   numero de palabras: 3\n",
      "Numero de letras: 27   numero de palabras: 8\n",
      "Numero de letras: 29   numero de palabras: 2\n",
      "Numero de letras: 30   numero de palabras: 1\n",
      "Numero de letras: 36   numero de palabras: 1\n",
      "Numero de letras: 49   numero de palabras: 1\n"
     ]
    }
   ],
   "source": [
    "lista_longitudes=list(long_en_caracteres.keys())\n",
    "lista_longitudes.sort()\n",
    "print(lista_longitudes)\n",
    "\n",
    "for llaves in lista_longitudes:\n",
    "    print(\"Numero de letras: \"+ str(llaves) +\"   \"+ \"numero de palabras: \"+ str(long_en_caracteres[llaves]))"
   ]
  },
  {
   "cell_type": "code",
   "execution_count": 31,
   "metadata": {},
   "outputs": [],
   "source": [
    "train_set['text']=train_set['text'].apply(limpiar_texto)"
   ]
  },
  {
   "cell_type": "code",
   "execution_count": 38,
   "metadata": {},
   "outputs": [],
   "source": [
    "train_set['text']=train_set['text'].apply(eliminar_palabras_de_una_sola_letra)"
   ]
  },
  {
   "cell_type": "code",
   "execution_count": 41,
   "metadata": {},
   "outputs": [
    {
     "data": {
      "text/plain": [
       "'people receive wildfire evacuation order california'"
      ]
     },
     "execution_count": 41,
     "metadata": {},
     "output_type": "execute_result"
    }
   ],
   "source": [
    "train_set['text'][3]"
   ]
  },
  {
   "cell_type": "markdown",
   "metadata": {},
   "source": [
    "### Intento de separador de textos"
   ]
  },
  {
   "cell_type": "code",
   "execution_count": 115,
   "metadata": {},
   "outputs": [],
   "source": [
    "diccionario_de_palabras={}\n",
    "def generar_diccionario_de_palabras():\n",
    "    embeddings=open(path_glove,'r',encoding='UTF-8')\n",
    "    while(True):\n",
    "        f=embeddings.readline()\n",
    "        if(len(f)==0):\n",
    "            break\n",
    "        f=f.split()\n",
    "        lista=f[0].split()\n",
    "        diccionario_de_palabras[lista[0]]='y'\n",
    "    embeddings.close()"
   ]
  },
  {
   "cell_type": "code",
   "execution_count": 144,
   "metadata": {},
   "outputs": [],
   "source": [
    "palabras_no_concatenadas_en_tweets={}\n",
    "def agregar_palabra_a_diccionario(texto):\n",
    "    palabras=texto.split()\n",
    "    for palabra in palabras:\n",
    "        esta=diccionario_de_palabras.get(palabra,'n')\n",
    "        if esta!='n':\n",
    "            palabras_no_concatenadas_en_tweets[palabra]='y'\n",
    "\n"
   ]
  },
  {
   "cell_type": "code",
   "execution_count": 146,
   "metadata": {},
   "outputs": [
    {
     "data": {
      "text/plain": [
       "9920"
      ]
     },
     "execution_count": 146,
     "metadata": {},
     "output_type": "execute_result"
    }
   ],
   "source": [
    "len(palabras_no_concatenadas_en_tweets)"
   ]
  },
  {
   "cell_type": "code",
   "execution_count": 118,
   "metadata": {},
   "outputs": [],
   "source": [
    "def detectar_palabras_no_reconocidas(texto):\n",
    "    texto=texto.lower()\n",
    "    palabras=texto.split()\n",
    "    for palabra in palabras:\n",
    "        esta_en_el_diccionario=diccionario_de_palabras.get(palabra,'n')\n",
    "        if(esta_en_el_diccionario=='n'):\n",
    "            return True\n",
    "    return False"
   ]
  },
  {
   "cell_type": "code",
   "execution_count": 119,
   "metadata": {},
   "outputs": [],
   "source": [
    "train_set['tiene_palabras_desconocidas']=train_set['text'].apply(detectar_palabras_no_reconocidas)"
   ]
  },
  {
   "cell_type": "code",
   "execution_count": 147,
   "metadata": {},
   "outputs": [],
   "source": [
    "lista_palabras=palabras_no_concatenadas_en_tweets.keys()    "
   ]
  },
  {
   "cell_type": "code",
   "execution_count": 158,
   "metadata": {},
   "outputs": [],
   "source": [
    "#PRE: asume que la palabra no esta en el diccionario \n",
    "#de palabras extraido de glove\n",
    "#POST:devuelve una tupla con las dos palabras que forman la palabra\n",
    "#en conjunto. Si no hay coincidencia devuelve una tupla vacia\n",
    "def detectar_concatenacion_de_dos_palabras(palabra_concatenada):\n",
    "    for primera_palabra in lista_palabras:\n",
    "        for segunda_palabra in lista_palabras:\n",
    "            concatenacion=primera_palabra+segunda_palabra\n",
    "            if(concatenacion==palabra_concatenada):\n",
    "                return (primera_palabra,segunda_palabra)\n",
    "    return (\" \",\" \")"
   ]
  },
  {
   "cell_type": "code",
   "execution_count": 169,
   "metadata": {},
   "outputs": [],
   "source": [
    "CONTADOR=0\n",
    "\n",
    "#PRE: el texto esta en minuscula\n",
    "#POST: el texto se devuelve con las concatenaciones separadas\n",
    "def separar_concatenaciones_de_dos_palabras(texto):\n",
    "    palabras=texto.split()\n",
    "    texto_procesado=[]\n",
    "    for palabra in palabras:\n",
    "        esta_en_diccionario=diccionario_de_palabras.get(palabra,'n')\n",
    "        if(esta_en_diccionario=='n'):\n",
    "            palabra_uno,palabra_dos=detectar_concatenacion_de_dos_palabras(palabra)\n",
    "            if(palabra_uno==\" \"):\n",
    "                texto_procesado.append(palabra)\n",
    "            else:\n",
    "                texto_procesado.append(palabra_uno)\n",
    "                texto_procesado.append(palabra_dos)\n",
    "        else:\n",
    "            texto_procesado.append(palabra)\n",
    "    texto=' '.join([word for word in texto_procesado])\n",
    "    global CONTADOR\n",
    "    CONTADOR+=1\n",
    "    print(CONTADOR)\n",
    "    return texto"
   ]
  },
  {
   "cell_type": "code",
   "execution_count": 162,
   "metadata": {},
   "outputs": [
    {
     "data": {
      "text/plain": [
       "'ovofest drake straight body bagging meek ovo stage ziphimup'"
      ]
     },
     "execution_count": 162,
     "metadata": {},
     "output_type": "execute_result"
    }
   ],
   "source": [
    "train_set['text'][1000]"
   ]
  },
  {
   "cell_type": "code",
   "execution_count": 164,
   "metadata": {},
   "outputs": [
    {
     "name": "stdout",
     "output_type": "stream",
     "text": [
      "Original: ovofest drake straight body bagging meek ovo stage ziphimup\n",
      "ovo fest drake straight body bagging meek ovo stage ziphimup\n"
     ]
    }
   ],
   "source": [
    "texto_prueba=train_set['text'][1000]\n",
    "print(\"Original: \"+ texto_prueba)\n",
    "print(separar_concatenaciones_de_dos_palabras(texto_prueba))"
   ]
  },
  {
   "cell_type": "code",
   "execution_count": 170,
   "metadata": {},
   "outputs": [
    {
     "name": "stdout",
     "output_type": "stream",
     "text": [
      "1\n",
      "2\n",
      "3\n",
      "4\n",
      "5\n",
      "6\n",
      "7\n",
      "8\n",
      "9\n",
      "10\n",
      "11\n",
      "12\n",
      "13\n",
      "14\n",
      "15\n",
      "16\n",
      "17\n",
      "18\n",
      "19\n"
     ]
    },
    {
     "ename": "KeyboardInterrupt",
     "evalue": "",
     "output_type": "error",
     "traceback": [
      "\u001b[0;31m---------------------------------------------------------------------------\u001b[0m",
      "\u001b[0;31mKeyboardInterrupt\u001b[0m                         Traceback (most recent call last)",
      "\u001b[0;32m<ipython-input-170-9245e783bae5>\u001b[0m in \u001b[0;36m<module>\u001b[0;34m\u001b[0m\n\u001b[0;32m----> 1\u001b[0;31m \u001b[0mtrain_set\u001b[0m\u001b[0;34m[\u001b[0m\u001b[0;34m'text'\u001b[0m\u001b[0;34m]\u001b[0m\u001b[0;34m=\u001b[0m\u001b[0mtrain_set\u001b[0m\u001b[0;34m[\u001b[0m\u001b[0;34m'text'\u001b[0m\u001b[0;34m]\u001b[0m\u001b[0;34m.\u001b[0m\u001b[0mapply\u001b[0m\u001b[0;34m(\u001b[0m\u001b[0mseparar_concatenaciones_de_dos_palabras\u001b[0m\u001b[0;34m)\u001b[0m\u001b[0;34m\u001b[0m\u001b[0;34m\u001b[0m\u001b[0m\n\u001b[0m",
      "\u001b[0;32m~/.local/lib/python3.6/site-packages/pandas/core/series.py\u001b[0m in \u001b[0;36mapply\u001b[0;34m(self, func, convert_dtype, args, **kwds)\u001b[0m\n\u001b[1;32m   3846\u001b[0m             \u001b[0;32melse\u001b[0m\u001b[0;34m:\u001b[0m\u001b[0;34m\u001b[0m\u001b[0;34m\u001b[0m\u001b[0m\n\u001b[1;32m   3847\u001b[0m                 \u001b[0mvalues\u001b[0m \u001b[0;34m=\u001b[0m \u001b[0mself\u001b[0m\u001b[0;34m.\u001b[0m\u001b[0mastype\u001b[0m\u001b[0;34m(\u001b[0m\u001b[0mobject\u001b[0m\u001b[0;34m)\u001b[0m\u001b[0;34m.\u001b[0m\u001b[0mvalues\u001b[0m\u001b[0;34m\u001b[0m\u001b[0;34m\u001b[0m\u001b[0m\n\u001b[0;32m-> 3848\u001b[0;31m                 \u001b[0mmapped\u001b[0m \u001b[0;34m=\u001b[0m \u001b[0mlib\u001b[0m\u001b[0;34m.\u001b[0m\u001b[0mmap_infer\u001b[0m\u001b[0;34m(\u001b[0m\u001b[0mvalues\u001b[0m\u001b[0;34m,\u001b[0m \u001b[0mf\u001b[0m\u001b[0;34m,\u001b[0m \u001b[0mconvert\u001b[0m\u001b[0;34m=\u001b[0m\u001b[0mconvert_dtype\u001b[0m\u001b[0;34m)\u001b[0m\u001b[0;34m\u001b[0m\u001b[0;34m\u001b[0m\u001b[0m\n\u001b[0m\u001b[1;32m   3849\u001b[0m \u001b[0;34m\u001b[0m\u001b[0m\n\u001b[1;32m   3850\u001b[0m         \u001b[0;32mif\u001b[0m \u001b[0mlen\u001b[0m\u001b[0;34m(\u001b[0m\u001b[0mmapped\u001b[0m\u001b[0;34m)\u001b[0m \u001b[0;32mand\u001b[0m \u001b[0misinstance\u001b[0m\u001b[0;34m(\u001b[0m\u001b[0mmapped\u001b[0m\u001b[0;34m[\u001b[0m\u001b[0;36m0\u001b[0m\u001b[0;34m]\u001b[0m\u001b[0;34m,\u001b[0m \u001b[0mSeries\u001b[0m\u001b[0;34m)\u001b[0m\u001b[0;34m:\u001b[0m\u001b[0;34m\u001b[0m\u001b[0;34m\u001b[0m\u001b[0m\n",
      "\u001b[0;32mpandas/_libs/lib.pyx\u001b[0m in \u001b[0;36mpandas._libs.lib.map_infer\u001b[0;34m()\u001b[0m\n",
      "\u001b[0;32m<ipython-input-169-6098bbbd4df5>\u001b[0m in \u001b[0;36mseparar_concatenaciones_de_dos_palabras\u001b[0;34m(texto)\u001b[0m\n\u001b[1;32m      9\u001b[0m         \u001b[0mesta_en_diccionario\u001b[0m\u001b[0;34m=\u001b[0m\u001b[0mdiccionario_de_palabras\u001b[0m\u001b[0;34m.\u001b[0m\u001b[0mget\u001b[0m\u001b[0;34m(\u001b[0m\u001b[0mpalabra\u001b[0m\u001b[0;34m,\u001b[0m\u001b[0;34m'n'\u001b[0m\u001b[0;34m)\u001b[0m\u001b[0;34m\u001b[0m\u001b[0;34m\u001b[0m\u001b[0m\n\u001b[1;32m     10\u001b[0m         \u001b[0;32mif\u001b[0m\u001b[0;34m(\u001b[0m\u001b[0mesta_en_diccionario\u001b[0m\u001b[0;34m==\u001b[0m\u001b[0;34m'n'\u001b[0m\u001b[0;34m)\u001b[0m\u001b[0;34m:\u001b[0m\u001b[0;34m\u001b[0m\u001b[0;34m\u001b[0m\u001b[0m\n\u001b[0;32m---> 11\u001b[0;31m             \u001b[0mpalabra_uno\u001b[0m\u001b[0;34m,\u001b[0m\u001b[0mpalabra_dos\u001b[0m\u001b[0;34m=\u001b[0m\u001b[0mdetectar_concatenacion_de_dos_palabras\u001b[0m\u001b[0;34m(\u001b[0m\u001b[0mpalabra\u001b[0m\u001b[0;34m)\u001b[0m\u001b[0;34m\u001b[0m\u001b[0;34m\u001b[0m\u001b[0m\n\u001b[0m\u001b[1;32m     12\u001b[0m             \u001b[0;32mif\u001b[0m\u001b[0;34m(\u001b[0m\u001b[0mpalabra_uno\u001b[0m\u001b[0;34m==\u001b[0m\u001b[0;34m\" \"\u001b[0m\u001b[0;34m)\u001b[0m\u001b[0;34m:\u001b[0m\u001b[0;34m\u001b[0m\u001b[0;34m\u001b[0m\u001b[0m\n\u001b[1;32m     13\u001b[0m                 \u001b[0mtexto_procesado\u001b[0m\u001b[0;34m.\u001b[0m\u001b[0mappend\u001b[0m\u001b[0;34m(\u001b[0m\u001b[0mpalabra\u001b[0m\u001b[0;34m)\u001b[0m\u001b[0;34m\u001b[0m\u001b[0;34m\u001b[0m\u001b[0m\n",
      "\u001b[0;32m<ipython-input-158-7e04656e9e04>\u001b[0m in \u001b[0;36mdetectar_concatenacion_de_dos_palabras\u001b[0;34m(palabra_concatenada)\u001b[0m\n\u001b[1;32m      7\u001b[0m         \u001b[0;32mfor\u001b[0m \u001b[0msegunda_palabra\u001b[0m \u001b[0;32min\u001b[0m \u001b[0mlista_palabras\u001b[0m\u001b[0;34m:\u001b[0m\u001b[0;34m\u001b[0m\u001b[0;34m\u001b[0m\u001b[0m\n\u001b[1;32m      8\u001b[0m             \u001b[0mconcatenacion\u001b[0m\u001b[0;34m=\u001b[0m\u001b[0mprimera_palabra\u001b[0m\u001b[0;34m+\u001b[0m\u001b[0msegunda_palabra\u001b[0m\u001b[0;34m\u001b[0m\u001b[0;34m\u001b[0m\u001b[0m\n\u001b[0;32m----> 9\u001b[0;31m             \u001b[0;32mif\u001b[0m\u001b[0;34m(\u001b[0m\u001b[0mconcatenacion\u001b[0m\u001b[0;34m==\u001b[0m\u001b[0mpalabra_concatenada\u001b[0m\u001b[0;34m)\u001b[0m\u001b[0;34m:\u001b[0m\u001b[0;34m\u001b[0m\u001b[0;34m\u001b[0m\u001b[0m\n\u001b[0m\u001b[1;32m     10\u001b[0m                 \u001b[0;32mreturn\u001b[0m \u001b[0;34m(\u001b[0m\u001b[0mprimera_palabra\u001b[0m\u001b[0;34m,\u001b[0m\u001b[0msegunda_palabra\u001b[0m\u001b[0;34m)\u001b[0m\u001b[0;34m\u001b[0m\u001b[0;34m\u001b[0m\u001b[0m\n\u001b[1;32m     11\u001b[0m     \u001b[0;32mreturn\u001b[0m \u001b[0;34m(\u001b[0m\u001b[0;34m\" \"\u001b[0m\u001b[0;34m,\u001b[0m\u001b[0;34m\" \"\u001b[0m\u001b[0;34m)\u001b[0m\u001b[0;34m\u001b[0m\u001b[0;34m\u001b[0m\u001b[0m\n",
      "\u001b[0;31mKeyboardInterrupt\u001b[0m: "
     ]
    }
   ],
   "source": [
    "train_set['text']=train_set['text'].apply(separar_concatenaciones_de_dos_palabras)"
   ]
  },
  {
   "cell_type": "code",
   "execution_count": 131,
   "metadata": {},
   "outputs": [
    {
     "name": "stdout",
     "output_type": "stream",
     "text": [
      "concatenacion= forest fire\n"
     ]
    }
   ],
   "source": [
    "detectar_concatenacion_de_dos_palabras('forestfire')"
   ]
  },
  {
   "cell_type": "markdown",
   "metadata": {},
   "source": [
    "Nota: las siguientes 3 secciones (stemming, lemmatization, lemmatization con POS) son mutuamente exclusivas. No ejecutar una luego de la otra, elegir sólo la que se queiere usar"
   ]
  },
  {
   "cell_type": "markdown",
   "metadata": {},
   "source": [
    "#### Aplicación de stemming"
   ]
  },
  {
   "cell_type": "code",
   "execution_count": 26,
   "metadata": {},
   "outputs": [],
   "source": [
    "train_set['text']=train_set['text'].apply(stemmizar_texto)"
   ]
  },
  {
   "cell_type": "code",
   "execution_count": 27,
   "metadata": {},
   "outputs": [
    {
     "data": {
      "text/plain": [
       "0               deed reason earthquak may allah forgiv us\n",
       "1                    forest fire near la rong sask canada\n",
       "2       resid ask shelter place notifi offic evacu she...\n",
       "3             peopl receiv wildfir evacu order california\n",
       "4       got sent photo rubi alaska smoke wildfir pour ...\n",
       "                              ...                        \n",
       "7608       two giant crane hold bridg collaps nearbi home\n",
       "7609    ariaahrari thetawniest control wild fire calif...\n",
       "7610                                       volcano hawaii\n",
       "7611    polic investig ebik collid car littl portug eb...\n",
       "7612    latest home raze northern california wildfir a...\n",
       "Name: text, Length: 7613, dtype: object"
      ]
     },
     "execution_count": 27,
     "metadata": {},
     "output_type": "execute_result"
    }
   ],
   "source": [
    "train_set['text']"
   ]
  },
  {
   "cell_type": "markdown",
   "metadata": {},
   "source": [
    "#### Aplicación de lemmatization"
   ]
  },
  {
   "cell_type": "code",
   "execution_count": 71,
   "metadata": {},
   "outputs": [],
   "source": [
    "train_set['text']=train_set['text'].apply(lemmatizar_texto)"
   ]
  },
  {
   "cell_type": "code",
   "execution_count": 125,
   "metadata": {},
   "outputs": [
    {
     "data": {
      "text/plain": [
       "'car fast'"
      ]
     },
     "execution_count": 125,
     "metadata": {},
     "output_type": "execute_result"
    }
   ],
   "source": [
    "train_set['text'][18]"
   ]
  },
  {
   "cell_type": "markdown",
   "metadata": {},
   "source": [
    "#### Aplicación de lemmatization con POS"
   ]
  },
  {
   "cell_type": "code",
   "execution_count": 33,
   "metadata": {},
   "outputs": [],
   "source": [
    "train_set['text']=train_set['text'].apply(lemmatizar_con_pos)"
   ]
  },
  {
   "cell_type": "code",
   "execution_count": 36,
   "metadata": {},
   "outputs": [
    {
     "data": {
      "text/plain": [
       "'forest fire near la ronge sask canada'"
      ]
     },
     "execution_count": 36,
     "metadata": {},
     "output_type": "execute_result"
    }
   ],
   "source": [
    "train_set['text'][1]"
   ]
  },
  {
   "cell_type": "markdown",
   "metadata": {},
   "source": [
    "### Feature extraction"
   ]
  },
  {
   "cell_type": "code",
   "execution_count": 93,
   "metadata": {},
   "outputs": [],
   "source": [
    "lista_menciona_pais=[]\n",
    "contador_externo=0\n",
    "def detectar_paises_mencionados(texto):\n",
    "    encontro_pais=False\n",
    "    contador=1\n",
    "    lista_paises=diccionario_paises_del_mundo.keys()\n",
    "    texto=texto.lower()\n",
    "    for pais in lista_paises:\n",
    "        if pais in texto:\n",
    "            encontro_pais=True\n",
    "            break\n",
    "    if encontro_pais==True:\n",
    "        lista_menciona_pais.append(True)\n",
    "    else:\n",
    "        lista_menciona_pais.append(False)\n",
    "            "
   ]
  },
  {
   "cell_type": "code",
   "execution_count": 81,
   "metadata": {},
   "outputs": [],
   "source": [
    "lista_menciona_estado=[]\n",
    "def detectar_estados_de_USA(texto):\n",
    "    encontro_estado=False\n",
    "    lista_estados=estados_de_USA.keys()\n",
    "    texto=texto.lower()\n",
    "    for estado in lista_estados:\n",
    "        if estado in texto:\n",
    "            encontro_estado=True\n",
    "            break\n",
    "    if(encontro_estado==True):\n",
    "        lista_menciona_estado.append(True)\n",
    "    else:\n",
    "        lista_menciona_estado.append(False)"
   ]
  },
  {
   "cell_type": "code",
   "execution_count": 94,
   "metadata": {},
   "outputs": [
    {
     "data": {
      "text/plain": [
       "0       None\n",
       "1       None\n",
       "2       None\n",
       "3       None\n",
       "4       None\n",
       "        ... \n",
       "7608    None\n",
       "7609    None\n",
       "7610    None\n",
       "7611    None\n",
       "7612    None\n",
       "Name: text, Length: 7613, dtype: object"
      ]
     },
     "execution_count": 94,
     "metadata": {},
     "output_type": "execute_result"
    }
   ],
   "source": [
    "train_set['text'].apply(detectar_paises_mencionados)"
   ]
  },
  {
   "cell_type": "code",
   "execution_count": 106,
   "metadata": {},
   "outputs": [],
   "source": [
    "lista_menciona_multiples_paises=[]\n",
    "def menciona_multiples_paises(texto):\n",
    "    cantidad_de_paises_mencionados=0\n",
    "    texto=texto.lower()\n",
    "    paises=diccionario_paises_del_mundo.keys()\n",
    "    for pais in paises:\n",
    "        if pais in texto:\n",
    "            cantidad_de_paises_mencionados+=1\n",
    "    if(cantidad_de_paises_mencionados>1):\n",
    "        lista_menciona_multiples_paises.append(True)\n",
    "    else:\n",
    "        lista_menciona_multiples_paises.append(False)\n"
   ]
  },
  {
   "cell_type": "code",
   "execution_count": 121,
   "metadata": {},
   "outputs": [],
   "source": [
    "lista_cantidad_de_palabras_unicas=[]\n",
    "def contar_cantidad_de_palabras_unicas(texto):\n",
    "    diccionario_auxiliar={}\n",
    "    palabras=texto.split()\n",
    "    for palabra in palabras:\n",
    "        esta=diccionario_auxiliar.get(palabra,\"no esta\")\n",
    "        if(esta==\"no esta\"):\n",
    "            diccionario_auxiliar[palabra]=\"esta\"\n",
    "    lista_cantidad_de_palabras_unicas.append(len(diccionario_auxiliar))"
   ]
  },
  {
   "cell_type": "code",
   "execution_count": 114,
   "metadata": {},
   "outputs": [],
   "source": [
    "lista_cantidad_de_caracteres=[]\n",
    "def contar_caracteres(texto):\n",
    "       lista_cantidad_de_caracteres.append(len(texto))"
   ]
  },
  {
   "cell_type": "code",
   "execution_count": 122,
   "metadata": {},
   "outputs": [
    {
     "data": {
      "text/plain": [
       "0       None\n",
       "1       None\n",
       "2       None\n",
       "3       None\n",
       "4       None\n",
       "        ... \n",
       "7608    None\n",
       "7609    None\n",
       "7610    None\n",
       "7611    None\n",
       "7612    None\n",
       "Name: text, Length: 7613, dtype: object"
      ]
     },
     "execution_count": 122,
     "metadata": {},
     "output_type": "execute_result"
    }
   ],
   "source": [
    "train_set['text'].apply(contar_cantidad_de_palabras_unicas)"
   ]
  },
  {
   "cell_type": "code",
   "execution_count": 129,
   "metadata": {},
   "outputs": [
    {
     "name": "stdout",
     "output_type": "stream",
     "text": [
      "11\n"
     ]
    }
   ],
   "source": [
    "print(lista_cantidad_de_palabras_unicas[6])"
   ]
  },
  {
   "cell_type": "code",
   "execution_count": 107,
   "metadata": {},
   "outputs": [
    {
     "data": {
      "text/plain": [
       "0       None\n",
       "1       None\n",
       "2       None\n",
       "3       None\n",
       "4       None\n",
       "        ... \n",
       "7608    None\n",
       "7609    None\n",
       "7610    None\n",
       "7611    None\n",
       "7612    None\n",
       "Name: text, Length: 7613, dtype: object"
      ]
     },
     "execution_count": 107,
     "metadata": {},
     "output_type": "execute_result"
    }
   ],
   "source": [
    "train_set['text'].apply(menciona_multiples_paises)"
   ]
  },
  {
   "cell_type": "code",
   "execution_count": 110,
   "metadata": {},
   "outputs": [],
   "source": [
    "contador=0\n",
    "for x in lista_menciona_multiples_paises:\n",
    "    if x==True:\n",
    "        contador+=1"
   ]
  },
  {
   "cell_type": "code",
   "execution_count": 97,
   "metadata": {},
   "outputs": [],
   "source": [
    "train_set['menciona_pais']=lista_menciona_pais"
   ]
  },
  {
   "cell_type": "code",
   "execution_count": 100,
   "metadata": {},
   "outputs": [],
   "source": [
    "train_set['menciona_estado']=lista_menciona_estado"
   ]
  },
  {
   "cell_type": "code",
   "execution_count": 117,
   "metadata": {},
   "outputs": [],
   "source": [
    "train_set['longitud_en_caracteres']=lista_cantidad_de_caracteres"
   ]
  },
  {
   "cell_type": "code",
   "execution_count": 130,
   "metadata": {},
   "outputs": [],
   "source": [
    "train_set['palabras_unicas']=lista_cantidad_de_palabras_unicas"
   ]
  },
  {
   "cell_type": "code",
   "execution_count": 134,
   "metadata": {},
   "outputs": [
    {
     "data": {
      "text/plain": [
       "9     828\n",
       "10    794\n",
       "8     751\n",
       "7     736\n",
       "11    709\n",
       "12    643\n",
       "6     641\n",
       "5     497\n",
       "13    496\n",
       "4     387\n",
       "14    319\n",
       "3     268\n",
       "15    177\n",
       "2     152\n",
       "16     93\n",
       "1      58\n",
       "17     44\n",
       "18     15\n",
       "19      2\n",
       "20      1\n",
       "22      1\n",
       "0       1\n",
       "Name: palabras_unicas, dtype: int64"
      ]
     },
     "execution_count": 134,
     "metadata": {},
     "output_type": "execute_result"
    }
   ],
   "source": [
    "train_set['palabras_unicas'].value_counts(ascending=False)"
   ]
  },
  {
   "cell_type": "code",
   "execution_count": 142,
   "metadata": {},
   "outputs": [
    {
     "data": {
      "text/plain": [
       "2533"
      ]
     },
     "execution_count": 142,
     "metadata": {},
     "output_type": "execute_result"
    }
   ],
   "source": [
    "train_set['location'].isna().sum()"
   ]
  },
  {
   "cell_type": "code",
   "execution_count": 156,
   "metadata": {},
   "outputs": [
    {
     "data": {
      "text/plain": [
       "0       False\n",
       "1       False\n",
       "2       False\n",
       "3        True\n",
       "4       False\n",
       "        ...  \n",
       "7608    False\n",
       "7609     True\n",
       "7610     True\n",
       "7611    False\n",
       "7612     True\n",
       "Name: menciona_estado, Length: 7613, dtype: bool"
      ]
     },
     "execution_count": 156,
     "metadata": {},
     "output_type": "execute_result"
    }
   ],
   "source": [
    "train_set['menciona_estado']"
   ]
  },
  {
   "cell_type": "code",
   "execution_count": 157,
   "metadata": {
    "scrolled": false
   },
   "outputs": [
    {
     "data": {
      "text/html": [
       "<div>\n",
       "<style scoped>\n",
       "    .dataframe tbody tr th:only-of-type {\n",
       "        vertical-align: middle;\n",
       "    }\n",
       "\n",
       "    .dataframe tbody tr th {\n",
       "        vertical-align: top;\n",
       "    }\n",
       "\n",
       "    .dataframe thead th {\n",
       "        text-align: right;\n",
       "    }\n",
       "</style>\n",
       "<table border=\"1\" class=\"dataframe\">\n",
       "  <thead>\n",
       "    <tr style=\"text-align: right;\">\n",
       "      <th></th>\n",
       "      <th>id</th>\n",
       "      <th>keyword</th>\n",
       "      <th>location</th>\n",
       "      <th>text</th>\n",
       "      <th>target</th>\n",
       "      <th>menciona_pais</th>\n",
       "      <th>menciona_estado</th>\n",
       "      <th>longitud_en_caracteres</th>\n",
       "      <th>palabras_unicas</th>\n",
       "    </tr>\n",
       "  </thead>\n",
       "  <tbody>\n",
       "    <tr>\n",
       "      <th>1</th>\n",
       "      <td>4</td>\n",
       "      <td>NaN</td>\n",
       "      <td>NaN</td>\n",
       "      <td>forest fire near la ronge sask canada</td>\n",
       "      <td>1</td>\n",
       "      <td>True</td>\n",
       "      <td>False</td>\n",
       "      <td>37</td>\n",
       "      <td>7</td>\n",
       "    </tr>\n",
       "    <tr>\n",
       "      <th>3</th>\n",
       "      <td>6</td>\n",
       "      <td>NaN</td>\n",
       "      <td>NaN</td>\n",
       "      <td>people receive wildfire evacuation order calif...</td>\n",
       "      <td>1</td>\n",
       "      <td>False</td>\n",
       "      <td>True</td>\n",
       "      <td>51</td>\n",
       "      <td>6</td>\n",
       "    </tr>\n",
       "    <tr>\n",
       "      <th>5</th>\n",
       "      <td>8</td>\n",
       "      <td>NaN</td>\n",
       "      <td>NaN</td>\n",
       "      <td>rockyfire update california hwy close directio...</td>\n",
       "      <td>1</td>\n",
       "      <td>False</td>\n",
       "      <td>True</td>\n",
       "      <td>84</td>\n",
       "      <td>12</td>\n",
       "    </tr>\n",
       "    <tr>\n",
       "      <th>6</th>\n",
       "      <td>10</td>\n",
       "      <td>NaN</td>\n",
       "      <td>NaN</td>\n",
       "      <td>flood disaster heavy rain cause flash flood st...</td>\n",
       "      <td>1</td>\n",
       "      <td>False</td>\n",
       "      <td>True</td>\n",
       "      <td>79</td>\n",
       "      <td>11</td>\n",
       "    </tr>\n",
       "    <tr>\n",
       "      <th>12</th>\n",
       "      <td>18</td>\n",
       "      <td>NaN</td>\n",
       "      <td>NaN</td>\n",
       "      <td>rain flood florida tampabay tampa day lose count</td>\n",
       "      <td>1</td>\n",
       "      <td>False</td>\n",
       "      <td>True</td>\n",
       "      <td>48</td>\n",
       "      <td>8</td>\n",
       "    </tr>\n",
       "    <tr>\n",
       "      <th>...</th>\n",
       "      <td>...</td>\n",
       "      <td>...</td>\n",
       "      <td>...</td>\n",
       "      <td>...</td>\n",
       "      <td>...</td>\n",
       "      <td>...</td>\n",
       "      <td>...</td>\n",
       "      <td>...</td>\n",
       "      <td>...</td>\n",
       "    </tr>\n",
       "    <tr>\n",
       "      <th>7607</th>\n",
       "      <td>10867</td>\n",
       "      <td>NaN</td>\n",
       "      <td>NaN</td>\n",
       "      <td>stormchase violent record break el reno oklaho...</td>\n",
       "      <td>1</td>\n",
       "      <td>False</td>\n",
       "      <td>True</td>\n",
       "      <td>67</td>\n",
       "      <td>10</td>\n",
       "    </tr>\n",
       "    <tr>\n",
       "      <th>7609</th>\n",
       "      <td>10870</td>\n",
       "      <td>NaN</td>\n",
       "      <td>NaN</td>\n",
       "      <td>ariaahrary thetawniest control wild fire calif...</td>\n",
       "      <td>1</td>\n",
       "      <td>False</td>\n",
       "      <td>True</td>\n",
       "      <td>84</td>\n",
       "      <td>11</td>\n",
       "    </tr>\n",
       "    <tr>\n",
       "      <th>7610</th>\n",
       "      <td>10871</td>\n",
       "      <td>NaN</td>\n",
       "      <td>NaN</td>\n",
       "      <td>volcano hawaii</td>\n",
       "      <td>1</td>\n",
       "      <td>False</td>\n",
       "      <td>True</td>\n",
       "      <td>14</td>\n",
       "      <td>2</td>\n",
       "    </tr>\n",
       "    <tr>\n",
       "      <th>7611</th>\n",
       "      <td>10872</td>\n",
       "      <td>NaN</td>\n",
       "      <td>NaN</td>\n",
       "      <td>police investigate ebike collide car little po...</td>\n",
       "      <td>1</td>\n",
       "      <td>True</td>\n",
       "      <td>False</td>\n",
       "      <td>103</td>\n",
       "      <td>13</td>\n",
       "    </tr>\n",
       "    <tr>\n",
       "      <th>7612</th>\n",
       "      <td>10873</td>\n",
       "      <td>NaN</td>\n",
       "      <td>NaN</td>\n",
       "      <td>late home raze northern california wildfire ab...</td>\n",
       "      <td>1</td>\n",
       "      <td>False</td>\n",
       "      <td>True</td>\n",
       "      <td>52</td>\n",
       "      <td>8</td>\n",
       "    </tr>\n",
       "  </tbody>\n",
       "</table>\n",
       "<p>5534 rows × 9 columns</p>\n",
       "</div>"
      ],
      "text/plain": [
       "         id keyword location  \\\n",
       "1         4     NaN      NaN   \n",
       "3         6     NaN      NaN   \n",
       "5         8     NaN      NaN   \n",
       "6        10     NaN      NaN   \n",
       "12       18     NaN      NaN   \n",
       "...     ...     ...      ...   \n",
       "7607  10867     NaN      NaN   \n",
       "7609  10870     NaN      NaN   \n",
       "7610  10871     NaN      NaN   \n",
       "7611  10872     NaN      NaN   \n",
       "7612  10873     NaN      NaN   \n",
       "\n",
       "                                                   text  target  \\\n",
       "1                 forest fire near la ronge sask canada       1   \n",
       "3     people receive wildfire evacuation order calif...       1   \n",
       "5     rockyfire update california hwy close directio...       1   \n",
       "6     flood disaster heavy rain cause flash flood st...       1   \n",
       "12     rain flood florida tampabay tampa day lose count       1   \n",
       "...                                                 ...     ...   \n",
       "7607  stormchase violent record break el reno oklaho...       1   \n",
       "7609  ariaahrary thetawniest control wild fire calif...       1   \n",
       "7610                                     volcano hawaii       1   \n",
       "7611  police investigate ebike collide car little po...       1   \n",
       "7612  late home raze northern california wildfire ab...       1   \n",
       "\n",
       "      menciona_pais  menciona_estado  longitud_en_caracteres  palabras_unicas  \n",
       "1              True            False                      37                7  \n",
       "3             False             True                      51                6  \n",
       "5             False             True                      84               12  \n",
       "6             False             True                      79               11  \n",
       "12            False             True                      48                8  \n",
       "...             ...              ...                     ...              ...  \n",
       "7607          False             True                      67               10  \n",
       "7609          False             True                      84               11  \n",
       "7610          False             True                      14                2  \n",
       "7611           True            False                     103               13  \n",
       "7612          False             True                      52                8  \n",
       "\n",
       "[5534 rows x 9 columns]"
      ]
     },
     "execution_count": 157,
     "metadata": {},
     "output_type": "execute_result"
    }
   ],
   "source": [
    "train_set.loc[train_set['location'].notna() | (train_set['menciona_pais']!=False) | (train_set['menciona_estado']!=False) ]"
   ]
  },
  {
   "cell_type": "code",
   "execution_count": 158,
   "metadata": {},
   "outputs": [
    {
     "data": {
      "text/plain": [
       "2097"
      ]
     },
     "execution_count": 158,
     "metadata": {},
     "output_type": "execute_result"
    }
   ],
   "source": [
    "7631-5534"
   ]
  },
  {
   "cell_type": "code",
   "execution_count": 147,
   "metadata": {},
   "outputs": [
    {
     "data": {
      "text/plain": [
       "2533"
      ]
     },
     "execution_count": 147,
     "metadata": {},
     "output_type": "execute_result"
    }
   ],
   "source": [
    "train_set['location'].isna().sum()"
   ]
  },
  {
   "cell_type": "markdown",
   "metadata": {},
   "source": [
    "## Red neuronal profunda, usando NLP, aplicando un embedding pre entrenado"
   ]
  },
  {
   "cell_type": "markdown",
   "metadata": {},
   "source": [
    "#### Creación de la matriz de pesos"
   ]
  },
  {
   "cell_type": "code",
   "execution_count": 52,
   "metadata": {},
   "outputs": [],
   "source": [
    "def create_embedding_matrix(filepath, word_index, embedding_dim):\n",
    "    vocab_size = len(word_index) + 1  # Adding again 1 because of reserved 0 index\n",
    "    embedding_matrix = np.zeros((vocab_size, embedding_dim))\n",
    "\n",
    "    with open(filepath) as f:\n",
    "        for line in f:\n",
    "            word, *vector = line.split()\n",
    "            if word in word_index:\n",
    "                idx = word_index[word] \n",
    "                embedding_matrix[idx] = np.array(\n",
    "                    vector, dtype=np.float32)[:embedding_dim]\n",
    "\n",
    "    return embedding_matrix"
   ]
  },
  {
   "cell_type": "markdown",
   "metadata": {},
   "source": [
    "#### Preparación de los tweets para ser usados en la red neuronal"
   ]
  },
  {
   "cell_type": "code",
   "execution_count": 53,
   "metadata": {},
   "outputs": [],
   "source": [
    "from tensorflow.keras.preprocessing.text import Tokenizer\n",
    "from tensorflow.keras.preprocessing.sequence import pad_sequences\n",
    "from tensorflow.keras.models import Sequential\n",
    "from tensorflow.keras.layers import Dense,Embedding,LSTM,GRU\n",
    "from tensorflow.keras.utils import to_categorical\n",
    "from tensorflow.keras import layers\n",
    "from sklearn.model_selection import train_test_split"
   ]
  },
  {
   "cell_type": "code",
   "execution_count": 54,
   "metadata": {},
   "outputs": [
    {
     "name": "stdout",
     "output_type": "stream",
     "text": [
      "Shape de X_train: (6090,)\n",
      "Shape de X_test:(3263,)\n",
      "Shape de todos_los_textos:(9353,)\n",
      "longitud maxima: 31\n",
      "tamanio de vocabulario: 20851\n"
     ]
    }
   ],
   "source": [
    "X=train_set['text'].copy().values\n",
    "Y=train_set['target'].copy().values\n",
    "#separamos el train set en dos, un conjunto de entrenamiento y uno de validacion, ratio: 80-20\n",
    "X_para_entrenar,X_para_evaluar,Y_para_entrenar,Y_para_evaluar=train_test_split(X,Y,test_size=0.2,random_state=1000)\n",
    "\n",
    "#se hace un análisis del target usando NLP\n",
    "X_train=X_para_entrenar\n",
    "Y_train=Y_para_entrenar\n",
    "X_test=test_set['text'].copy().values\n",
    "\n",
    "print(\"Shape de X_train: \"+ str(X_train.shape))\n",
    "print(\"Shape de X_test:\" + str(X_test.shape))\n",
    "todos_los_textos=np.concatenate([X_train,X_test])\n",
    "print(\"Shape de todos_los_textos:\" + str(todos_los_textos.shape))\n",
    "\n",
    "#estan todos los textos concatenados, hay que 'entrenar' al tokenizador\n",
    "objeto_tokenizador=Tokenizer()\n",
    "objeto_tokenizador.fit_on_texts(todos_los_textos)\n",
    "\n",
    "#necesito una cota de la longitud de cada palabra de los textos que \n",
    "#se van a analizar\n",
    "longitud_maxima=max([len(s.split()) for s in todos_los_textos])\n",
    "print(\"longitud maxima: \" + str(longitud_maxima))\n",
    "\n",
    "#necesito saber cuantas palabras tengo en mi 'diccionario' de palabras\n",
    "tamanio_de_vocabulario=len(objeto_tokenizador.word_index) +1\n",
    "print(\"tamanio de vocabulario: \" + str(tamanio_de_vocabulario))\n",
    "\n",
    "#ahora que tengo esto, es tiempo de tokenizar cada uno de los tweets\n",
    "#y agregar el padding necesario\n",
    "X_train_tokens=objeto_tokenizador.texts_to_sequences(X_train)\n",
    "X_train_pad=pad_sequences(X_train_tokens,maxlen=longitud_maxima,padding='post')\n",
    "\n",
    "X_test_tokens=objeto_tokenizador.texts_to_sequences(X_test)\n",
    "X_test_pad=pad_sequences(X_test_tokens,maxlen=longitud_maxima,padding='post')\n",
    "\n",
    "X_para_evaluar=pad_sequences(objeto_tokenizador.texts_to_sequences(X_para_evaluar),maxlen=longitud_maxima,padding='post')"
   ]
  },
  {
   "cell_type": "markdown",
   "metadata": {},
   "source": [
    "#### Creación de la matriz de pesos, y cálculo de la cobertura dada por GLoVE"
   ]
  },
  {
   "cell_type": "code",
   "execution_count": 55,
   "metadata": {},
   "outputs": [
    {
     "name": "stdout",
     "output_type": "stream",
     "text": [
      "0.6222243537480217\n"
     ]
    }
   ],
   "source": [
    "#Aca es donde uso el embedding entrenado por GLoVE\n",
    "#Primero creo una matriz donde estan los pesos asociados \n",
    "#a las palabras\n",
    "dimension_embedding=100\n",
    "embedding_matrix = create_embedding_matrix(path_glove,objeto_tokenizador.word_index, dimension_embedding)\n",
    "\n",
    "\n",
    "nonzero_elements = np.count_nonzero(np.count_nonzero(embedding_matrix, axis=1))\n",
    "print(nonzero_elements/tamanio_de_vocabulario)"
   ]
  },
  {
   "cell_type": "markdown",
   "metadata": {},
   "source": [
    "#### Stemming"
   ]
  },
  {
   "cell_type": "markdown",
   "metadata": {},
   "source": [
    "En este momento las palabras que aparecen en los tweets tienen una cobertura de 61%. Esto quiere decir que 39% de las palabras que aparecen en los tweets no se encuentran presentes en los embeddings de glove -> el valor de esas palabras en la matriz de pesos que se genero anteriormente va a ser cero (cosa que no es deseable). Para solucionar esto voy a aplicarle a cada tweet el proceso de stemming"
   ]
  },
  {
   "cell_type": "markdown",
   "metadata": {},
   "source": [
    "Stemming se basa en la reducción de cada palabra en los tweets a su raiz idiomatica (ejemplo: computer ----> compute )"
   ]
  },
  {
   "cell_type": "markdown",
   "metadata": {},
   "source": [
    "##### Importamos la libreria que se encarga de hacer el stemming (requiere NLTK)"
   ]
  },
  {
   "cell_type": "markdown",
   "metadata": {},
   "source": [
    "Veamos ahora si hubo una mejora en la cobertura brindada por glove"
   ]
  },
  {
   "cell_type": "code",
   "execution_count": 30,
   "metadata": {},
   "outputs": [
    {
     "name": "stdout",
     "output_type": "stream",
     "text": [
      "0.5338266384778013\n"
     ]
    }
   ],
   "source": [
    "dimension_embedding=100\n",
    "embedding_matrix = create_embedding_matrix(path_glove,objeto_tokenizador.word_index, dimension_embedding)\n",
    "\n",
    "\n",
    "nonzero_elements = np.count_nonzero(np.count_nonzero(embedding_matrix, axis=1))\n",
    "print(nonzero_elements/tamanio_de_vocabulario)"
   ]
  },
  {
   "cell_type": "markdown",
   "metadata": {},
   "source": [
    "Como puede verse, la cobertura brindada por glove es todavia peor que antes, habiendose producido una reducción de la cobertura de 61% a 53%. Menor cobertura va a dar lugar a peores resultados, por lo que utilizar stemming en este caso no es buena idea."
   ]
  },
  {
   "cell_type": "markdown",
   "metadata": {},
   "source": [
    "#### Lemmatization"
   ]
  },
  {
   "cell_type": "markdown",
   "metadata": {},
   "source": [
    "Stemming no dio el resultado que se esperaba, voy a aplicar lemmatization que es mejor que stemming, ya que hace un análsis morfologico de las palabras (stemming basicamente lo que hace es corta partes de la palabra original)"
   ]
  },
  {
   "cell_type": "markdown",
   "metadata": {},
   "source": [
    "Habiendo lemmatizado el texto en lugar de hacer stemming, veamos la cobertura que se consigue"
   ]
  },
  {
   "cell_type": "code",
   "execution_count": 76,
   "metadata": {},
   "outputs": [
    {
     "name": "stdout",
     "output_type": "stream",
     "text": [
      "0.6026793992212127\n"
     ]
    }
   ],
   "source": [
    "dimension_embedding=100\n",
    "embedding_matrix = create_embedding_matrix(path_glove,objeto_tokenizador.word_index, dimension_embedding)\n",
    "\n",
    "\n",
    "nonzero_elements = np.count_nonzero(np.count_nonzero(embedding_matrix, axis=1))\n",
    "print(nonzero_elements/tamanio_de_vocabulario)"
   ]
  },
  {
   "cell_type": "markdown",
   "metadata": {},
   "source": [
    "La cobertura es del 60%, mejor que lo que se consigue usando stemming, pero sigue siendo peor que si no se le hubiera aplicado ninguno de los dos procesos al texto original."
   ]
  },
  {
   "cell_type": "markdown",
   "metadata": {},
   "source": [
    "#### Lemmatization modificado, usando POS (part of speech)"
   ]
  },
  {
   "cell_type": "markdown",
   "metadata": {},
   "source": [
    "Probamos ahora que cobertura conseguimos usando lemmatizar con POS"
   ]
  },
  {
   "cell_type": "code",
   "execution_count": 56,
   "metadata": {},
   "outputs": [
    {
     "name": "stdout",
     "output_type": "stream",
     "text": [
      "0.6222243537480217\n"
     ]
    }
   ],
   "source": [
    "dimension_embedding=100\n",
    "embedding_matrix = create_embedding_matrix(path_glove,objeto_tokenizador.word_index, dimension_embedding)\n",
    "\n",
    "\n",
    "nonzero_elements = np.count_nonzero(np.count_nonzero(embedding_matrix, axis=1))\n",
    "print(nonzero_elements/tamanio_de_vocabulario)"
   ]
  },
  {
   "cell_type": "markdown",
   "metadata": {},
   "source": [
    "me da 60%, todavia más bajo que si no hubiera aplicado nada"
   ]
  },
  {
   "cell_type": "markdown",
   "metadata": {},
   "source": [
    "#### Creación de la red neuronal"
   ]
  },
  {
   "cell_type": "code",
   "execution_count": 33,
   "metadata": {},
   "outputs": [],
   "source": [
    "def crear_modelo(num_filtros,tamanio_kernel,tamanio_vocab,dimension_embedding,max_len):\n",
    "    red_neuronal=Sequential()\n",
    "    red_neuronal.add(Embedding(tamanio_de_vocabulario,dimension_embedding,weights=[embedding_matrix],input_length=longitud_maxima))\n",
    "    red_neuronal.add(layers.Conv1D(128,5,activation='relu'))\n",
    "    red_neuronal.add(layers.GlobalMaxPool1D())\n",
    "    red_neuronal.add(layers.Dense(100,activation='relu'))\n",
    "    red_neuronal.add(layers.Dense(1,activation='sigmoid'))\n",
    "    red_neuronal.compile(optimizer='adam',loss='binary_crossentropy',metrics=['accuracy'])\n",
    "    return red_neuronal\n",
    "\n",
    "param_grid=dict(num_filtros=[32,64,128],tamanio_kernel=[3,5,7],tamanio_vocab=[tamanio_de_vocabulario],dimension_embedding=[dimension_embedding],max_len=[longitud_maxima])"
   ]
  },
  {
   "cell_type": "code",
   "execution_count": 35,
   "metadata": {},
   "outputs": [
    {
     "name": "stdout",
     "output_type": "stream",
     "text": [
      "Fitting 4 folds for each of 5 candidates, totalling 20 fits\n"
     ]
    },
    {
     "name": "stderr",
     "output_type": "stream",
     "text": [
      "[Parallel(n_jobs=1)]: Using backend SequentialBackend with 1 concurrent workers.\n",
      "[Parallel(n_jobs=1)]: Done  20 out of  20 | elapsed: 99.3min finished\n"
     ]
    }
   ],
   "source": [
    "from tensorflow.keras.wrappers.scikit_learn import KerasClassifier\n",
    "from sklearn.model_selection import RandomizedSearchCV\n",
    "\n",
    "#settings:\n",
    "epochs=20\n",
    "#longitud_maxima (calculada antes)\n",
    "#embedding dimension(calculada antes)\n",
    "output_file='output.txt'\n",
    "\n",
    "modelo=KerasClassifier(build_fn=crear_modelo,epochs=epochs,batch_size=10,verbose=False)\n",
    "grid=RandomizedSearchCV(estimator=modelo, param_distributions=param_grid,cv=4,verbose=1,n_iter=5)\n",
    "\n",
    "grid_result=grid.fit(X_train_pad,Y_train)"
   ]
  },
  {
   "cell_type": "code",
   "execution_count": 38,
   "metadata": {},
   "outputs": [],
   "source": [
    "test_accuracy=grid.score(X_para_evaluar,Y_para_evaluar)"
   ]
  },
  {
   "cell_type": "code",
   "execution_count": 39,
   "metadata": {},
   "outputs": [
    {
     "name": "stdout",
     "output_type": "stream",
     "text": [
      "finished; write to file and proceed? [y/n]y\n",
      "Best Accuracy : 0.7765\n",
      "{'tamanio_vocab': 21096, 'tamanio_kernel': 5, 'num_filtros': 64, 'max_len': 31, 'dimension_embedding': 100}\n",
      "Test Accuracy : 0.8043\n",
      "\n",
      "\n"
     ]
    }
   ],
   "source": [
    "#evaluando los resultados:\n",
    "#precision_de_prueba=grid.score(X_para_evaluar,Y_para_evaluar)\n",
    "\n",
    "prompt = input(f'finished; write to file and proceed? [y/n]')\n",
    "if prompt.lower() in {'y','true','yes'}:\n",
    "    with open(output_file, 'a') as f:\n",
    "        s=('Best Accuracy : ' '{:.4f}\\n{}\\nTest Accuracy : {:.4f}\\n\\n')\n",
    "        output_string=s.format(grid_result.best_score_,grid_result.best_params_,test_accuracy)\n",
    "        print(output_string)\n",
    "        f.write(output_string)\n"
   ]
  },
  {
   "cell_type": "code",
   "execution_count": 42,
   "metadata": {},
   "outputs": [],
   "source": [
    "history=red_neuronal.fit(X_train_pad,Y_train,epochs=20,verbose=False,validation_data=(X_para_evaluar,Y_para_evaluar),batch_size=100)"
   ]
  },
  {
   "cell_type": "code",
   "execution_count": 43,
   "metadata": {},
   "outputs": [
    {
     "name": "stdout",
     "output_type": "stream",
     "text": [
      "Training Accuracy: 0.9844\n",
      "Testing Accuracy:  0.7879\n"
     ]
    }
   ],
   "source": [
    "loss,accuracy=red_neuronal.evaluate(X_train_pad,Y_train,verbose=False)\n",
    "print(\"Training Accuracy: {:.4f}\".format(accuracy))\n",
    "loss, accuracy = red_neuronal.evaluate(X_para_evaluar, Y_para_evaluar, verbose=False)\n",
    "print(\"Testing Accuracy:  {:.4f}\".format(accuracy))"
   ]
  },
  {
   "cell_type": "code",
   "execution_count": 105,
   "metadata": {},
   "outputs": [
    {
     "data": {
      "image/png": "[encoded data removed]",
      "text/plain": [
       "<Figure size 864x360 with 2 Axes>"
      ]
     },
     "metadata": {},
     "output_type": "display_data"
    }
   ],
   "source": [
    "plot_history(history)"
   ]
  },
  {
   "cell_type": "markdown",
   "metadata": {},
   "source": [
    "### Otro tipo de modelo usando varios imputs"
   ]
  },
  {
   "cell_type": "code",
   "execution_count": null,
   "metadata": {},
   "outputs": [],
   "source": []
  },
  {
   "cell_type": "markdown",
   "metadata": {},
   "source": [
    "# Realizar predicción y creacion del submit"
   ]
  },
  {
   "cell_type": "code",
   "execution_count": 52,
   "metadata": {},
   "outputs": [],
   "source": [
    "predicciones=grid.predict(X_test_pad)"
   ]
  },
  {
   "cell_type": "code",
   "execution_count": 40,
   "metadata": {},
   "outputs": [
    {
     "ename": "NameError",
     "evalue": "name 'red_neuronal' is not defined",
     "output_type": "error",
     "traceback": [
      "\u001b[0;31m---------------------------------------------------------------------------\u001b[0m",
      "\u001b[0;31mNameError\u001b[0m                                 Traceback (most recent call last)",
      "\u001b[0;32m<ipython-input-40-bf654dbf1004>\u001b[0m in \u001b[0;36m<module>\u001b[0;34m\u001b[0m\n\u001b[1;32m      1\u001b[0m \u001b[0;31m#ahora se hace la prediccion\u001b[0m\u001b[0;34m\u001b[0m\u001b[0;34m\u001b[0m\u001b[0;34m\u001b[0m\u001b[0m\n\u001b[0;32m----> 2\u001b[0;31m \u001b[0mpredicciones\u001b[0m\u001b[0;34m=\u001b[0m\u001b[0mred_neuronal\u001b[0m\u001b[0;34m.\u001b[0m\u001b[0mpredict\u001b[0m\u001b[0;34m(\u001b[0m\u001b[0mX_test_pad\u001b[0m\u001b[0;34m)\u001b[0m\u001b[0;34m\u001b[0m\u001b[0;34m\u001b[0m\u001b[0m\n\u001b[0m",
      "\u001b[0;31mNameError\u001b[0m: name 'red_neuronal' is not defined"
     ]
    }
   ],
   "source": [
    "#ahora se hace la prediccion\n",
    "predicciones=red_neuronal.predict(X_test_pad)"
   ]
  },
  {
   "cell_type": "code",
   "execution_count": 38,
   "metadata": {},
   "outputs": [],
   "source": [
    "resultado=[]\n",
    "for numero in predicciones:\n",
    "    if numero>=0.5:\n",
    "        resultado.append(1)\n",
    "    else:\n",
    "        resultado.append(0)"
   ]
  },
  {
   "cell_type": "code",
   "execution_count": 48,
   "metadata": {},
   "outputs": [],
   "source": [
    "resultado=[]\n",
    "for numero in predicciones:\n",
    "    string=str(numero)\n",
    "    if('1' in string):\n",
    "        resultado.append(1)\n",
    "    else:\n",
    "        resultado.append(0)\n"
   ]
  },
  {
   "cell_type": "code",
   "execution_count": 49,
   "metadata": {},
   "outputs": [
    {
     "name": "stdout",
     "output_type": "stream",
     "text": [
      "1\n"
     ]
    }
   ],
   "source": [
    "print(str(resultado[0]))"
   ]
  },
  {
   "cell_type": "code",
   "execution_count": 50,
   "metadata": {},
   "outputs": [],
   "source": [
    "sampleSubmission=pd.read_csv('sample_submission.csv')\n",
    "output=pd.DataFrame({'id':sampleSubmission.id,'target':resultado})\n",
    "output.to_csv('submission.csv',index=False)"
   ]
  },
  {
   "cell_type": "code",
   "execution_count": null,
   "metadata": {},
   "outputs": [],
   "source": []
  }
 ],
 "metadata": {
  "kernelspec": {
   "display_name": "Python 3",
   "language": "python",
   "name": "python3"
  },
  "language_info": {
   "codemirror_mode": {
    "name": "ipython",
    "version": 3
   },
   "file_extension": ".py",
   "mimetype": "text/x-python",
   "name": "python",
   "nbconvert_exporter": "python",
   "pygments_lexer": "ipython3",
   "version": "3.6.9"
  }
 },
 "nbformat": 4,
 "nbformat_minor": 2
}
