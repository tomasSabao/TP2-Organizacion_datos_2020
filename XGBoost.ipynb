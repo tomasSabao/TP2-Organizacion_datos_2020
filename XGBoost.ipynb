{
 "cells": [
  {
   "cell_type": "code",
   "execution_count": 32,
   "metadata": {},
   "outputs": [],
   "source": [
    "import pandas as pd\n",
    "import xgboost as xgb\n",
    "import numpy as np\n",
    "import matplotlib.pyplot as plt\n",
    "from sklearn.model_selection import train_test_split\n",
    "#from sklearn.cross_validation import train_test_split\n",
    "from sklearn.model_selection import GridSearchCV\n",
    "from sklearn.model_selection import KFold\n",
    "from sklearn.ensemble import VotingClassifier\n",
    "from sklearn.metrics import roc_auc_score\n"
   ]
  },
  {
   "cell_type": "code",
   "execution_count": 33,
   "metadata": {
    "scrolled": true
   },
   "outputs": [],
   "source": [
    "train_data=pd.read_csv('Features/train_set_FINAL.csv',index_col=0)\n",
    "test_data=pd.read_csv('Features/test_set_FINAL.csv',index_col=0)"
   ]
  },
  {
   "cell_type": "code",
   "execution_count": 34,
   "metadata": {},
   "outputs": [
    {
     "data": {
      "text/plain": [
       "Index(['Unnamed: 0.1', 'id', 'keyword', 'location', 'text', 'target',\n",
       "       'caracteres_usados', 'menciones_realizadas', 'permite_location',\n",
       "       'use_keyword', 'cita_url', 'use_hashtag', 'cant_palabras',\n",
       "       'cant_abreviaciones', 'location_usa', 'has_emoji',\n",
       "       'has_repeated_letter', 'numero_de_palabras', 'palabras_unicas',\n",
       "       'numero_palabras_desconocidas', 'menciona_pais'],\n",
       "      dtype='object')"
      ]
     },
     "execution_count": 34,
     "metadata": {},
     "output_type": "execute_result"
    }
   ],
   "source": [
    "train_data.columns"
   ]
  },
  {
   "cell_type": "code",
   "execution_count": 35,
   "metadata": {},
   "outputs": [],
   "source": [
    "features= ['caracteres_usados', 'menciones_realizadas', 'permite_location',\n",
    "       'use_keyword', 'cita_url', 'use_hashtag', 'cant_palabras',\n",
    "       'cant_abreviaciones', 'location_usa', 'has_emoji',\n",
    "       'has_repeated_letter', 'numero_de_palabras', 'palabras_unicas',\n",
    "       'numero_palabras_desconocidas', 'menciona_pais']"
   ]
  },
  {
   "cell_type": "code",
   "execution_count": 36,
   "metadata": {},
   "outputs": [],
   "source": [
    "X = train_data[features]\n",
    "Y = train_data['target']\n",
    "\n",
    "X_train,X_test,Y_train,Y_test = train_test_split(X,Y)"
   ]
  },
  {
   "cell_type": "code",
   "execution_count": 37,
   "metadata": {},
   "outputs": [],
   "source": [
    "kfold = KFold(n_splits=10)"
   ]
  },
  {
   "cell_type": "code",
   "execution_count": 38,
   "metadata": {},
   "outputs": [],
   "source": [
    "xgbRegressor = xgb.XGBRegressor(base_score=0.5, booster='gbtree', colsample_bylevel=1,\n",
    "       colsample_bytree=1.0, gamma=1, learning_rate=0.075,\n",
    "       max_delta_step=0, max_depth=4, min_child_weight=1, missing=None,\n",
    "       n_estimators=95, n_jobs=1, nthread=None,\n",
    "       objective='binary:logistic', random_state=0, reg_alpha=0,\n",
    "       reg_lambda=1, scale_pos_weight=0.8, seed=15,\n",
    "       subsample=0.8)"
   ]
  },
  {
   "cell_type": "code",
   "execution_count": 39,
   "metadata": {},
   "outputs": [
    {
     "name": "stdout",
     "output_type": "stream",
     "text": [
      "0.7315144452412663\n",
      "0.6665513939135987\n",
      "0.6661574892029839\n",
      "0.7096302512460584\n",
      "0.7045153220762976\n",
      "0.7039740470397406\n",
      "0.7162351469668543\n",
      "0.6963859277677934\n",
      "0.649582471462499\n",
      "0.7328687281432922\n"
     ]
    }
   ],
   "source": [
    "mejor_score = 0\n",
    "for train, test in kfold.split(X_train, Y_train):\n",
    "    train_datas = train_data.iloc[train]\n",
    "    test_datas = train_data.iloc[test]\n",
    "    \n",
    "    X_train_data = train_datas[features]\n",
    "    Y_train_data = train_datas['target']\n",
    "    \n",
    "    X_test_data = test_datas[features]\n",
    "    Y_test_data = test_datas['target']\n",
    "    \n",
    "    xgbRegressor.fit(X_train_data,Y_train_data)\n",
    "    print(roc_auc_score(Y_test_data,xgbRegressor.predict(X_test_data)))\n",
    "    if (roc_auc_score(Y_test_data, xgbRegressor.predict(X_test_data))>mejor_score):\n",
    "        mejor_score = roc_auc_score(Y_test_data,xgbRegressor.predict(X_test_data))\n",
    "        X_train_optimo = X_train_data\n",
    "        Y_train_optimo = Y_train_data\n",
    "        X_test_optimo = X_test_data\n",
    "        Y_test_optimo = Y_test_data"
   ]
  },
  {
   "cell_type": "code",
   "execution_count": 40,
   "metadata": {},
   "outputs": [],
   "source": [
    "params = {'objective':['binary:logistic'],'colsample_bytree': [0.5,.6,.7,.8,.9,1.0], 'learning_rate': [.07,.075,.08,.085,.09,.095,1.0],\n",
    "                'max_depth' : [1,2,3,4,5,6,7,8,9,10], 'n_estimators' : [80,85,90,95,100],'seed':[123]}"
   ]
  },
  {
   "cell_type": "code",
   "execution_count": 41,
   "metadata": {},
   "outputs": [],
   "source": [
    "cv = GridSearchCV(estimator=xgb.XGBRegressor(),param_grid=params,scoring='roc_auc',cv=3)"
   ]
  },
  {
   "cell_type": "code",
   "execution_count": 42,
   "metadata": {},
   "outputs": [],
   "source": [
    "dmatrix = xgb.DMatrix(data=X_train_optimo[features],label=Y_train_optimo,feature_names=features)"
   ]
  },
  {
   "cell_type": "code",
   "execution_count": 43,
   "metadata": {},
   "outputs": [
    {
     "ename": "AttributeError",
     "evalue": "'GridSearchCV' object has no attribute 'best_score_'",
     "output_type": "error",
     "traceback": [
      "\u001b[1;31m---------------------------------------------------------------------------\u001b[0m",
      "\u001b[1;31mAttributeError\u001b[0m                            Traceback (most recent call last)",
      "\u001b[1;32m<ipython-input-43-8546039159d0>\u001b[0m in \u001b[0;36m<module>\u001b[1;34m\u001b[0m\n\u001b[1;32m----> 1\u001b[1;33m \u001b[0mcv\u001b[0m\u001b[1;33m.\u001b[0m\u001b[0mbest_score_\u001b[0m\u001b[1;33m\u001b[0m\u001b[1;33m\u001b[0m\u001b[0m\n\u001b[0m",
      "\u001b[1;31mAttributeError\u001b[0m: 'GridSearchCV' object has no attribute 'best_score_'"
     ]
    }
   ],
   "source": [
    "cv.best_score_"
   ]
  },
  {
   "cell_type": "code",
   "execution_count": null,
   "metadata": {},
   "outputs": [],
   "source": [
    "xgbRegressor.fit(X_train_optimo,Y_train_optimo)"
   ]
  },
  {
   "cell_type": "code",
   "execution_count": null,
   "metadata": {},
   "outputs": [],
   "source": [
    "roc_auc_score(Y_test_optimo,xgbRegressor.predict(X_test_optimo))"
   ]
  },
  {
   "cell_type": "code",
   "execution_count": null,
   "metadata": {},
   "outputs": [],
   "source": [
    "xg_reg = xgb.train(params={'base_score':0.5, 'booster':'gbtree', 'colsample_bylevel':1,\n",
    "'colsample_bytree':1, 'gamma':1,'learning_rate':0.075, 'max_delta_step':0,\n",
    "'max_depth':4, 'min_child_weight':1, 'n_estimators':95,\n",
    "'n_jobs':1, 'objective':'binary:logistic', 'random_state':0,\n",
    "'reg_alpha':0,'reg_lambda':1, 'scale_pos_weight':0.8,\n",
    "'silent':True, 'subsample':0.8}, dtrain=dmatrix, num_boost_round=10)"
   ]
  },
  {
   "cell_type": "code",
   "execution_count": null,
   "metadata": {},
   "outputs": [],
   "source": [
    "xgb.plot_importance(xg_reg)\n",
    "plt.rcParams['figure.figsize'] = [10, 10]\n",
    "plt.show()"
   ]
  },
  {
   "cell_type": "markdown",
   "metadata": {},
   "source": [
    "## Test Kaggle\n"
   ]
  },
  {
   "cell_type": "code",
   "execution_count": null,
   "metadata": {},
   "outputs": [],
   "source": [
    "test_data['prediction'] = xgbRegressor.predict(test_data[features])"
   ]
  },
  {
   "cell_type": "code",
   "execution_count": null,
   "metadata": {},
   "outputs": [],
   "source": [
    "submit_kaggle = pd.DataFrame({'id':test_data['id'],'target':test_data['prediction']})"
   ]
  },
  {
   "cell_type": "code",
   "execution_count": null,
   "metadata": {},
   "outputs": [],
   "source": [
    "submit_kaggle['target'] = submit_kaggle['target'].transform(lambda x: 0 if x < 0.5 else 1)\n",
    "#submit_kaggle['target'] = submit_kaggle['target'].transform(lambda x: 1.0 if x > 1.0 else x)"
   ]
  },
  {
   "cell_type": "code",
   "execution_count": null,
   "metadata": {},
   "outputs": [],
   "source": [
    "submit_kaggle.to_csv('submit_kaggle_xgboost.csv',index=False)"
   ]
  },
  {
   "cell_type": "code",
   "execution_count": null,
   "metadata": {},
   "outputs": [],
   "source": []
  },
  {
   "cell_type": "code",
   "execution_count": null,
   "metadata": {},
   "outputs": [],
   "source": []
  },
  {
   "cell_type": "code",
   "execution_count": null,
   "metadata": {},
   "outputs": [],
   "source": []
  },
  {
   "cell_type": "code",
   "execution_count": null,
   "metadata": {},
   "outputs": [],
   "source": [
    "submit_kaggle"
   ]
  },
  {
   "cell_type": "code",
   "execution_count": null,
   "metadata": {},
   "outputs": [],
   "source": []
  }
 ],
 "metadata": {
  "kernelspec": {
   "display_name": "Python 3",
   "language": "python",
   "name": "python3"
  },
  "language_info": {
   "codemirror_mode": {
    "name": "ipython",
    "version": 3
   },
   "file_extension": ".py",
   "mimetype": "text/x-python",
   "name": "python",
   "nbconvert_exporter": "python",
   "pygments_lexer": "ipython3",
   "version": "3.8.3"
  }
 },
 "nbformat": 4,
 "nbformat_minor": 4
}
